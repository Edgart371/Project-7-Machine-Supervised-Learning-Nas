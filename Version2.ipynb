{
 "cells": [
  {
   "cell_type": "code",
   "execution_count": 1,
   "id": "c5fc2fc9",
   "metadata": {},
   "outputs": [],
   "source": [
    "import pandas as pd\n",
    "import numpy as np"
   ]
  },
  {
   "cell_type": "code",
   "execution_count": 2,
   "id": "56f5c295",
   "metadata": {},
   "outputs": [],
   "source": [
    "neo = pd.read_csv(r\"/Users/edgartome_1/IronHack/IronProjects/Project7/neo.csv\")\n",
    "neo2 = pd.read_csv(r\"/Users/edgartome_1/IronHack/IronProjects/Project7/neo.csv\")"
   ]
  },
  {
   "cell_type": "code",
   "execution_count": 3,
   "id": "acf38759",
   "metadata": {},
   "outputs": [
    {
     "data": {
      "text/plain": [
       "2469219    43\n",
       "2277810    43\n",
       "3743123    40\n",
       "2138175    39\n",
       "3893865    38\n",
       "           ..\n",
       "3768019     1\n",
       "3774692     1\n",
       "3779049     1\n",
       "3775040     1\n",
       "3092229     1\n",
       "Name: id, Length: 27423, dtype: int64"
      ]
     },
     "execution_count": 3,
     "metadata": {},
     "output_type": "execute_result"
    }
   ],
   "source": [
    "#Value count on IDs\n",
    "neo2['id'].value_counts()"
   ]
  },
  {
   "cell_type": "code",
   "execution_count": null,
   "id": "bb06ce1d",
   "metadata": {},
   "outputs": [],
   "source": [
    "#filters = neo2[neo2['id']==2469219]\n",
    "#filters"
   ]
  },
  {
   "cell_type": "code",
   "execution_count": 4,
   "id": "cbb39762",
   "metadata": {},
   "outputs": [],
   "source": [
    "#It seems we have ID many times with diferente observations\n",
    "#To uniform the data for this objects with diferente observations.\n",
    "#We will aply the mean to relative_velocity and miss_distance.\n",
    "\n",
    "#filcol = list(filters.columns)\n",
    "\n",
    "#ids = list(neo2['id'].unique())\n",
    "\n",
    "#for x in ids:\n",
    "    #filters = neo2[neo2['id']==x]\n",
    "    #if len(list(filters['hazardous'].unique()))>1:\n",
    "        #print(x, 'is a problem')"
   ]
  },
  {
   "cell_type": "code",
   "execution_count": 5,
   "id": "6d56513c",
   "metadata": {},
   "outputs": [],
   "source": [
    "ids = list(neo2['id'].unique())\n",
    "\n",
    "for x in ids:\n",
    "    filters = neo2[neo2['id']==x]\n",
    "    meanv = filters['relative_velocity'].mean()\n",
    "    meand = filters['miss_distance'].mean()\n",
    "    neo2.loc[neo2[neo2['id']==x].index, 'relative_velocity'] = meanv\n",
    "    neo2.loc[neo2[neo2['id']==x].index, 'miss_distance'] = meand"
   ]
  },
  {
   "cell_type": "code",
   "execution_count": null,
   "id": "42863b5e",
   "metadata": {},
   "outputs": [],
   "source": [
    "#for x in ids:\n",
    "    #filters = neo2[neo2['id']==x]\n",
    "    #if len(list(filters['relative_velocity'].unique()))>1:\n",
    "        #print(x, 'is a problem')"
   ]
  },
  {
   "cell_type": "code",
   "execution_count": null,
   "id": "a16ceac7",
   "metadata": {},
   "outputs": [],
   "source": [
    "#for x in ids:\n",
    "    #filters = neo2[neo2['id']==x]\n",
    "    #if len(list(filters['miss_distance'].unique()))>1:\n",
    "        #print(x, 'is a problem')"
   ]
  },
  {
   "cell_type": "code",
   "execution_count": 6,
   "id": "486961e4",
   "metadata": {},
   "outputs": [
    {
     "name": "stdout",
     "output_type": "stream",
     "text": [
      "<class 'pandas.core.frame.DataFrame'>\n",
      "RangeIndex: 90836 entries, 0 to 90835\n",
      "Data columns (total 10 columns):\n",
      " #   Column              Non-Null Count  Dtype  \n",
      "---  ------              --------------  -----  \n",
      " 0   id                  90836 non-null  int64  \n",
      " 1   name                90836 non-null  object \n",
      " 2   est_diameter_min    90836 non-null  float64\n",
      " 3   est_diameter_max    90836 non-null  float64\n",
      " 4   relative_velocity   90836 non-null  float64\n",
      " 5   miss_distance       90836 non-null  float64\n",
      " 6   orbiting_body       90836 non-null  object \n",
      " 7   sentry_object       90836 non-null  bool   \n",
      " 8   absolute_magnitude  90836 non-null  float64\n",
      " 9   hazardous           90836 non-null  bool   \n",
      "dtypes: bool(2), float64(5), int64(1), object(2)\n",
      "memory usage: 5.7+ MB\n"
     ]
    }
   ],
   "source": [
    "neo2.info()"
   ]
  },
  {
   "cell_type": "code",
   "execution_count": 7,
   "id": "31fe63fa",
   "metadata": {},
   "outputs": [],
   "source": [
    "neonew = neo2.drop_duplicates(subset=['id'])"
   ]
  },
  {
   "cell_type": "code",
   "execution_count": 8,
   "id": "cc011713",
   "metadata": {},
   "outputs": [
    {
     "name": "stdout",
     "output_type": "stream",
     "text": [
      "<class 'pandas.core.frame.DataFrame'>\n",
      "Int64Index: 27423 entries, 0 to 90823\n",
      "Data columns (total 10 columns):\n",
      " #   Column              Non-Null Count  Dtype  \n",
      "---  ------              --------------  -----  \n",
      " 0   id                  27423 non-null  int64  \n",
      " 1   name                27423 non-null  object \n",
      " 2   est_diameter_min    27423 non-null  float64\n",
      " 3   est_diameter_max    27423 non-null  float64\n",
      " 4   relative_velocity   27423 non-null  float64\n",
      " 5   miss_distance       27423 non-null  float64\n",
      " 6   orbiting_body       27423 non-null  object \n",
      " 7   sentry_object       27423 non-null  bool   \n",
      " 8   absolute_magnitude  27423 non-null  float64\n",
      " 9   hazardous           27423 non-null  bool   \n",
      "dtypes: bool(2), float64(5), int64(1), object(2)\n",
      "memory usage: 1.9+ MB\n"
     ]
    }
   ],
   "source": [
    "neonew.info()"
   ]
  },
  {
   "cell_type": "code",
   "execution_count": 9,
   "id": "02a67a2c",
   "metadata": {},
   "outputs": [
    {
     "data": {
      "text/plain": [
       "(27423, 10)"
      ]
     },
     "execution_count": 9,
     "metadata": {},
     "output_type": "execute_result"
    }
   ],
   "source": [
    "neonew.shape"
   ]
  },
  {
   "cell_type": "code",
   "execution_count": 10,
   "id": "4ea29046",
   "metadata": {},
   "outputs": [
    {
     "name": "stdout",
     "output_type": "stream",
     "text": [
      "id\n",
      "[ 2162635  2277475  2512244 ... 54225015  3735178  3092229]\n",
      "\n",
      "\n",
      "name\n",
      "['162635 (2000 SS164)' '277475 (2005 WK4)' '512244 (2015 YE18)' ...\n",
      " '(2021 WR3)' '(2015 VK142)' '(1999 LV7)']\n",
      "\n",
      "\n",
      "est_diameter_min\n",
      "[1.1982708  0.2658     0.72202956 ... 0.05602153 0.04526421 0.10913272]\n",
      "\n",
      "\n",
      "est_diameter_max\n",
      "[2.67941497 0.59434687 1.61450717 ... 0.12526795 0.10121386 0.24402818]\n",
      "\n",
      "\n",
      "relative_velocity\n",
      "[ 13569.24922418  37187.96905106  95258.90367085 ... 103342.74485171\n",
      "  65388.34984344  60242.31620051]\n",
      "\n",
      "\n",
      "miss_distance\n",
      "[54839744.08284605 35047584.35553019 47943855.70371578 ...\n",
      " 62546854.2628162  63446931.67400043 27549364.58600608]\n",
      "\n",
      "\n",
      "orbiting_body\n",
      "['Earth']\n",
      "\n",
      "\n",
      "sentry_object\n",
      "[False]\n",
      "\n",
      "\n",
      "absolute_magnitude\n",
      "[16.73  20.    17.83  ... 23.381 23.844 21.933]\n",
      "\n",
      "\n",
      "hazardous\n",
      "[False  True]\n",
      "\n",
      "\n"
     ]
    }
   ],
   "source": [
    "allcol = list(neonew.columns)\n",
    "allcol\n",
    "for x in allcol:\n",
    "    print(x)\n",
    "    print(neonew[x].unique())\n",
    "    print('\\n')"
   ]
  },
  {
   "cell_type": "code",
   "execution_count": 11,
   "id": "b7c51c9d",
   "metadata": {},
   "outputs": [],
   "source": [
    "# all same values for column oribiting body and sentry object, will not have an\n",
    "# impact on model decision if these values are the same for all asteriods --> drop the columns\n",
    "del neonew['sentry_object']\n",
    "del neonew['orbiting_body']"
   ]
  },
  {
   "cell_type": "code",
   "execution_count": 12,
   "id": "e516a8f2",
   "metadata": {},
   "outputs": [
    {
     "data": {
      "image/png": "[encoded data removed]",
      "text/plain": [
       "<Figure size 1440x1080 with 2 Axes>"
      ]
     },
     "metadata": {
      "needs_background": "light"
     },
     "output_type": "display_data"
    }
   ],
   "source": [
    "import seaborn as sns\n",
    "import matplotlib.pyplot as plt\n",
    "\n",
    "plt.figure(figsize=(20, 15))\n",
    "heatmap = sns.heatmap(neonew.corr(), vmin=-1, vmax=1, annot=True)"
   ]
  },
  {
   "cell_type": "code",
   "execution_count": 13,
   "id": "ffee389a",
   "metadata": {},
   "outputs": [],
   "source": [
    "# high correlation between \n",
    "\n",
    "del neonew['est_diameter_min']"
   ]
  },
  {
   "cell_type": "code",
   "execution_count": 14,
   "id": "e1e04de7",
   "metadata": {},
   "outputs": [
    {
     "data": {
      "text/html": [
       "<div>\n",
       "<style scoped>\n",
       "    .dataframe tbody tr th:only-of-type {\n",
       "        vertical-align: middle;\n",
       "    }\n",
       "\n",
       "    .dataframe tbody tr th {\n",
       "        vertical-align: top;\n",
       "    }\n",
       "\n",
       "    .dataframe thead th {\n",
       "        text-align: right;\n",
       "    }\n",
       "</style>\n",
       "<table border=\"1\" class=\"dataframe\">\n",
       "  <thead>\n",
       "    <tr style=\"text-align: right;\">\n",
       "      <th></th>\n",
       "      <th>id</th>\n",
       "      <th>est_diameter_max</th>\n",
       "      <th>relative_velocity</th>\n",
       "      <th>miss_distance</th>\n",
       "      <th>absolute_magnitude</th>\n",
       "    </tr>\n",
       "  </thead>\n",
       "  <tbody>\n",
       "    <tr>\n",
       "      <th>count</th>\n",
       "      <td>2.742300e+04</td>\n",
       "      <td>27423.000000</td>\n",
       "      <td>27423.000000</td>\n",
       "      <td>2.742300e+04</td>\n",
       "      <td>27423.000000</td>\n",
       "    </tr>\n",
       "    <tr>\n",
       "      <th>mean</th>\n",
       "      <td>1.522211e+07</td>\n",
       "      <td>0.310996</td>\n",
       "      <td>46824.940616</td>\n",
       "      <td>3.047301e+07</td>\n",
       "      <td>23.361668</td>\n",
       "    </tr>\n",
       "    <tr>\n",
       "      <th>std</th>\n",
       "      <td>2.137963e+07</td>\n",
       "      <td>0.837229</td>\n",
       "      <td>23357.218062</td>\n",
       "      <td>1.821554e+07</td>\n",
       "      <td>2.869921</td>\n",
       "    </tr>\n",
       "    <tr>\n",
       "      <th>min</th>\n",
       "      <td>2.000433e+06</td>\n",
       "      <td>0.001362</td>\n",
       "      <td>646.320239</td>\n",
       "      <td>9.316925e+03</td>\n",
       "      <td>9.230000</td>\n",
       "    </tr>\n",
       "    <tr>\n",
       "      <th>25%</th>\n",
       "      <td>3.520758e+06</td>\n",
       "      <td>0.047211</td>\n",
       "      <td>29807.541541</td>\n",
       "      <td>1.386736e+07</td>\n",
       "      <td>21.200000</td>\n",
       "    </tr>\n",
       "    <tr>\n",
       "      <th>50%</th>\n",
       "      <td>3.756059e+06</td>\n",
       "      <td>0.113250</td>\n",
       "      <td>42875.644455</td>\n",
       "      <td>3.276135e+07</td>\n",
       "      <td>23.600000</td>\n",
       "    </tr>\n",
       "    <tr>\n",
       "      <th>75%</th>\n",
       "      <td>3.968766e+06</td>\n",
       "      <td>0.342011</td>\n",
       "      <td>59651.963633</td>\n",
       "      <td>4.403119e+07</td>\n",
       "      <td>25.500000</td>\n",
       "    </tr>\n",
       "    <tr>\n",
       "      <th>max</th>\n",
       "      <td>5.427591e+07</td>\n",
       "      <td>84.730541</td>\n",
       "      <td>236990.128088</td>\n",
       "      <td>7.479865e+07</td>\n",
       "      <td>33.200000</td>\n",
       "    </tr>\n",
       "  </tbody>\n",
       "</table>\n",
       "</div>"
      ],
      "text/plain": [
       "                 id  est_diameter_max  relative_velocity  miss_distance  \\\n",
       "count  2.742300e+04      27423.000000       27423.000000   2.742300e+04   \n",
       "mean   1.522211e+07          0.310996       46824.940616   3.047301e+07   \n",
       "std    2.137963e+07          0.837229       23357.218062   1.821554e+07   \n",
       "min    2.000433e+06          0.001362         646.320239   9.316925e+03   \n",
       "25%    3.520758e+06          0.047211       29807.541541   1.386736e+07   \n",
       "50%    3.756059e+06          0.113250       42875.644455   3.276135e+07   \n",
       "75%    3.968766e+06          0.342011       59651.963633   4.403119e+07   \n",
       "max    5.427591e+07         84.730541      236990.128088   7.479865e+07   \n",
       "\n",
       "       absolute_magnitude  \n",
       "count        27423.000000  \n",
       "mean            23.361668  \n",
       "std              2.869921  \n",
       "min              9.230000  \n",
       "25%             21.200000  \n",
       "50%             23.600000  \n",
       "75%             25.500000  \n",
       "max             33.200000  "
      ]
     },
     "execution_count": 14,
     "metadata": {},
     "output_type": "execute_result"
    }
   ],
   "source": [
    "neonew.describe()"
   ]
  },
  {
   "cell_type": "code",
   "execution_count": 15,
   "id": "8a81eb99",
   "metadata": {},
   "outputs": [
    {
     "data": {
      "text/plain": [
       "['id',\n",
       " 'est_diameter_max',\n",
       " 'relative_velocity',\n",
       " 'miss_distance',\n",
       " 'absolute_magnitude']"
      ]
     },
     "execution_count": 15,
     "metadata": {},
     "output_type": "execute_result"
    }
   ],
   "source": [
    "numcol = list(neonew.describe().columns)\n",
    "numcol"
   ]
  },
  {
   "cell_type": "code",
   "execution_count": 16,
   "id": "4a8fb72d",
   "metadata": {},
   "outputs": [
    {
     "data": {
      "image/png": "[encoded data removed]",
      "text/plain": [
       "<Figure size 432x288 with 1 Axes>"
      ]
     },
     "metadata": {
      "needs_background": "light"
     },
     "output_type": "display_data"
    },
    {
     "data": {
      "image/png": "[encoded data removed]",
      "text/plain": [
       "<Figure size 432x288 with 1 Axes>"
      ]
     },
     "metadata": {
      "needs_background": "light"
     },
     "output_type": "display_data"
    },
    {
     "data": {
      "image/png": "[encoded data removed]",
      "text/plain": [
       "<Figure size 432x288 with 1 Axes>"
      ]
     },
     "metadata": {
      "needs_background": "light"
     },
     "output_type": "display_data"
    },
    {
     "data": {
      "image/png": "[encoded data removed]",
      "text/plain": [
       "<Figure size 432x288 with 1 Axes>"
      ]
     },
     "metadata": {
      "needs_background": "light"
     },
     "output_type": "display_data"
    },
    {
     "data": {
      "image/png": "[encoded data removed]",
      "text/plain": [
       "<Figure size 432x288 with 1 Axes>"
      ]
     },
     "metadata": {
      "needs_background": "light"
     },
     "output_type": "display_data"
    }
   ],
   "source": [
    "import seaborn as sns\n",
    "import matplotlib.pyplot as plt\n",
    "\n",
    "for x in numcol:\n",
    "    sns.boxplot(data = neonew, y=x)\n",
    "    plt.title(x)\n",
    "    plt.show()"
   ]
  },
  {
   "cell_type": "code",
   "execution_count": 17,
   "id": "cc826269",
   "metadata": {},
   "outputs": [
    {
     "name": "stdout",
     "output_type": "stream",
     "text": [
      "id\n",
      "6356\n",
      "\n",
      "\n",
      "est_diameter_max\n",
      "2560\n",
      "\n",
      "\n",
      "relative_velocity\n",
      "647\n",
      "\n",
      "\n",
      "miss_distance\n",
      "0\n",
      "\n",
      "\n",
      "absolute_magnitude\n",
      "8\n",
      "\n",
      "\n"
     ]
    }
   ],
   "source": [
    "for x in numcol:\n",
    "    Q3 = neonew[x].quantile(0.75)\n",
    "    Q1= neonew[x].quantile(0.25)\n",
    "    IQR = Q3 - Q1\n",
    "    filters = neonew[neonew[x]>Q3 + 1.5*IQR]\n",
    "    print(x)\n",
    "    print(len(filters))\n",
    "    print('\\n')"
   ]
  },
  {
   "cell_type": "code",
   "execution_count": 18,
   "id": "295a1f83",
   "metadata": {},
   "outputs": [
    {
     "data": {
      "text/plain": [
       "False    25250\n",
       "True      2173\n",
       "Name: hazardous, dtype: int64"
      ]
     },
     "execution_count": 18,
     "metadata": {},
     "output_type": "execute_result"
    }
   ],
   "source": [
    "neonew['hazardous'].value_counts()"
   ]
  },
  {
   "cell_type": "code",
   "execution_count": 19,
   "id": "7636f08b",
   "metadata": {},
   "outputs": [],
   "source": [
    "del neonew['id']\n",
    "del neonew['name']"
   ]
  },
  {
   "cell_type": "code",
   "execution_count": 20,
   "id": "d40a4760",
   "metadata": {},
   "outputs": [
    {
     "name": "stderr",
     "output_type": "stream",
     "text": [
      "/var/folders/bk/pxkcy9j94652x3trpppgb63m0000gp/T/ipykernel_11420/819059167.py:1: SettingWithCopyWarning: \n",
      "A value is trying to be set on a copy of a slice from a DataFrame.\n",
      "Try using .loc[row_indexer,col_indexer] = value instead\n",
      "\n",
      "See the caveats in the documentation: https://pandas.pydata.org/pandas-docs/stable/user_guide/indexing.html#returning-a-view-versus-a-copy\n",
      "  neonew['hazardous'] = np.where(neonew['hazardous']==True,1,0)\n"
     ]
    }
   ],
   "source": [
    "neonew['hazardous'] = np.where(neonew['hazardous']==True,1,0)\n"
   ]
  },
  {
   "cell_type": "code",
   "execution_count": 21,
   "id": "5d3941ad",
   "metadata": {},
   "outputs": [
    {
     "data": {
      "text/plain": [
       "0        0\n",
       "1        1\n",
       "2        0\n",
       "3        0\n",
       "4        1\n",
       "        ..\n",
       "90561    0\n",
       "90608    0\n",
       "90711    0\n",
       "90806    0\n",
       "90823    0\n",
       "Name: hazardous, Length: 27423, dtype: int64"
      ]
     },
     "execution_count": 21,
     "metadata": {},
     "output_type": "execute_result"
    }
   ],
   "source": [
    "neonew['hazardous']"
   ]
  },
  {
   "cell_type": "code",
   "execution_count": null,
   "id": "08c5430b",
   "metadata": {},
   "outputs": [],
   "source": [
    "\"\"\"allcol\n",
    "for x in allcol:\n",
    "    sns.displot(neonew, x=x)\"\"\""
   ]
  },
  {
   "cell_type": "code",
   "execution_count": 22,
   "id": "7fb33d27",
   "metadata": {},
   "outputs": [],
   "source": [
    "from sklearn.model_selection import train_test_split\n",
    "from sklearn.tree import DecisionTreeClassifier, plot_tree\n",
    "from sklearn import metrics\n",
    "from sklearn.naive_bayes import GaussianNB\n",
    "from sklearn.discriminant_analysis import LinearDiscriminantAnalysis, QuadraticDiscriminantAnalysis\n",
    "from sklearn.neighbors import KNeighborsClassifier\n",
    "from sklearn.svm import SVC\n",
    "from sklearn.linear_model import LogisticRegression"
   ]
  },
  {
   "cell_type": "code",
   "execution_count": 23,
   "id": "a1ef897b",
   "metadata": {},
   "outputs": [],
   "source": [
    "def generate_results(prediction, y_test, model, x_test):\n",
    "    print('The accuracy of the Tree is', '{:.3f}'.format(metrics.accuracy_score(prediction,y_test)))\n",
    "\n",
    "    # matrix\n",
    "\n",
    "    cm = metrics.plot_confusion_matrix(model, x_test, y_test,\n",
    "                                 cmap=plt.cm.Blues,\n",
    "                                 normalize=None)\n",
    "    cm.ax_.set_title('Tree Confusion matrix, without normalization');"
   ]
  },
  {
   "cell_type": "code",
   "execution_count": 24,
   "id": "761ada7a",
   "metadata": {},
   "outputs": [],
   "source": [
    "# feature selection for data including outliers as well\n",
    "    \n",
    "from sklearn.model_selection import train_test_split\n",
    "from sklearn.ensemble import RandomForestClassifier\n",
    "from sklearn.feature_selection import SelectFromModel\n",
    "from sklearn.feature_selection import RFE # feature importance\n",
    "from sklearn.ensemble import RandomForestClassifier\n",
    "from sklearn.feature_selection import RFECV\n",
    "from sklearn.feature_selection import SequentialFeatureSelector"
   ]
  },
  {
   "cell_type": "code",
   "execution_count": 25,
   "id": "7083368f",
   "metadata": {},
   "outputs": [],
   "source": [
    "#Data 1\n",
    "\n",
    "x = neonew.drop('hazardous', axis=1)\n",
    "y = neonew['hazardous']\n",
    "x_train,x_test,y_train,y_test = train_test_split(x,y, test_size=0.2, random_state=42)"
   ]
  },
  {
   "cell_type": "markdown",
   "id": "baa22802",
   "metadata": {},
   "source": [
    "## Fuction of Feature Selection"
   ]
  },
  {
   "cell_type": "code",
   "execution_count": 26,
   "id": "505b7d2a",
   "metadata": {},
   "outputs": [],
   "source": [
    "def feature_selection_SFM(x,y):\n",
    "    SFM = SelectFromModel(estimator=RandomForestClassifier()).fit(x, y)\n",
    "    s=SFM.fit(x, y)\n",
    "    return s.get_support()"
   ]
  },
  {
   "cell_type": "code",
   "execution_count": 27,
   "id": "3df474fa",
   "metadata": {},
   "outputs": [],
   "source": [
    "def feature_selection_RFE(x,y):\n",
    "    rfe_selector = RFE(estimator=RandomForestClassifier(),n_features_to_select = 3, step = 1)\n",
    "    m=rfe_selector.fit(x, y)\n",
    "    x.columns[m.get_support()]\n",
    "    return print(\"Num Features: %s\" % (m.n_features_), '\\n', \"Selected Features: %s\" % (m.support_), '\\n', \"Feature Ranking: %s\" % (m.ranking_))"
   ]
  },
  {
   "cell_type": "code",
   "execution_count": 28,
   "id": "1a32c775",
   "metadata": {},
   "outputs": [],
   "source": [
    "def feature_selection_RFECV(x,y):\n",
    "    rfecv = RFECV(\n",
    "        estimator=RandomForestClassifier(),\n",
    "        min_features_to_select=3,\n",
    "        step=4,\n",
    "        n_jobs=-1,\n",
    "        scoring=\"r2\",\n",
    "        cv=5,)\n",
    "    \n",
    "    m= rfecv.fit(x, y)\n",
    "    m.ranking_\n",
    "    return x.columns[rfecv.support_]"
   ]
  },
  {
   "cell_type": "code",
   "execution_count": 29,
   "id": "bd6f548b",
   "metadata": {},
   "outputs": [],
   "source": [
    "def feature_selection_SFS(x,y):\n",
    "    sfs = SequentialFeatureSelector(estimator=RandomForestClassifier(),  n_features_to_select=3)\n",
    "    m = sfs.fit(x,y)\n",
    "    return x.columns[m.get_support()]"
   ]
  },
  {
   "cell_type": "code",
   "execution_count": 30,
   "id": "01219754",
   "metadata": {},
   "outputs": [
    {
     "data": {
      "text/plain": [
       "['est_diameter_max',\n",
       " 'relative_velocity',\n",
       " 'miss_distance',\n",
       " 'absolute_magnitude',\n",
       " 'hazardous']"
      ]
     },
     "execution_count": 30,
     "metadata": {},
     "output_type": "execute_result"
    }
   ],
   "source": [
    "allcol = list(neonew.columns)\n",
    "allcol"
   ]
  },
  {
   "cell_type": "markdown",
   "id": "d2512e90",
   "metadata": {},
   "source": [
    "### Run Feature Selection Functions"
   ]
  },
  {
   "cell_type": "code",
   "execution_count": 31,
   "id": "a8fb83b8",
   "metadata": {},
   "outputs": [
    {
     "data": {
      "text/plain": [
       "array([False,  True,  True, False])"
      ]
     },
     "execution_count": 31,
     "metadata": {},
     "output_type": "execute_result"
    }
   ],
   "source": [
    "# SFM\n",
    "feature_selection_SFM(x,y)  \n"
   ]
  },
  {
   "cell_type": "code",
   "execution_count": 32,
   "id": "b525d7a7",
   "metadata": {},
   "outputs": [],
   "source": [
    "#Data 2\n",
    "mostimcol1 = allcol[2:3]\n",
    "mostimcol1\n",
    "\n",
    "x_train2 = x_train[mostimcol1]\n",
    "x_test2 = x_test[mostimcol1]"
   ]
  },
  {
   "cell_type": "code",
   "execution_count": 33,
   "id": "17a55e97",
   "metadata": {},
   "outputs": [
    {
     "name": "stdout",
     "output_type": "stream",
     "text": [
      "Num Features: 3 \n",
      " Selected Features: [ True  True  True False] \n",
      " Feature Ranking: [1 1 1 2]\n"
     ]
    }
   ],
   "source": [
    "#RFE\n",
    "feature_selection_RFE(x, y)\n"
   ]
  },
  {
   "cell_type": "code",
   "execution_count": 34,
   "id": "108c298e",
   "metadata": {},
   "outputs": [],
   "source": [
    "#Data 3\n",
    "mostimcol2 = allcol[:3]\n",
    "mostimcol2\n",
    "\n",
    "x_train3 = x_train[mostimcol2]\n",
    "x_test3 = x_test[mostimcol2]"
   ]
  },
  {
   "cell_type": "code",
   "execution_count": 35,
   "id": "9a1bbe35",
   "metadata": {},
   "outputs": [
    {
     "data": {
      "text/plain": [
       "Index(['est_diameter_max', 'relative_velocity', 'miss_distance'], dtype='object')"
      ]
     },
     "execution_count": 35,
     "metadata": {},
     "output_type": "execute_result"
    }
   ],
   "source": [
    "# RFECV\n",
    "feature_selection_RFECV(x, y)\n"
   ]
  },
  {
   "cell_type": "code",
   "execution_count": 36,
   "id": "4e108428",
   "metadata": {},
   "outputs": [],
   "source": [
    "#Data 4\n",
    "mostimcol3 = allcol[1:4]\n",
    "mostimcol3\n",
    "\n",
    "x_train4 = x_train[mostimcol3]\n",
    "x_test4 = x_test[mostimcol3]"
   ]
  },
  {
   "cell_type": "code",
   "execution_count": 37,
   "id": "9ff8541b",
   "metadata": {},
   "outputs": [
    {
     "data": {
      "text/plain": [
       "Index(['est_diameter_max', 'miss_distance', 'absolute_magnitude'], dtype='object')"
      ]
     },
     "execution_count": 37,
     "metadata": {},
     "output_type": "execute_result"
    }
   ],
   "source": [
    "# SFS\n",
    "feature_selection_SFS(x, y)\n"
   ]
  },
  {
   "cell_type": "code",
   "execution_count": 38,
   "id": "e9bd0a9b",
   "metadata": {},
   "outputs": [],
   "source": [
    "#Data 5\n",
    "mostimcol4 = ['est_diameter_max', 'miss_distance', 'absolute_magnitude']\n",
    "mostimcol4\n",
    "\n",
    "x_train5 = x_train[mostimcol4]\n",
    "x_test5 = x_test[mostimcol4]"
   ]
  },
  {
   "cell_type": "markdown",
   "id": "cf158618",
   "metadata": {},
   "source": [
    "# Due to timelimitation and the fact that we only have a limited amount of\n",
    "# features, we will use our original traindata with all features only for the\n",
    "# next steps of analysis"
   ]
  },
  {
   "cell_type": "markdown",
   "id": "73a3fcae",
   "metadata": {},
   "source": [
    "## Functions of hyperparameters decision"
   ]
  },
  {
   "cell_type": "code",
   "execution_count": 40,
   "id": "4fe6409b",
   "metadata": {},
   "outputs": [],
   "source": [
    "# hyperparameters decision\n",
    "\n",
    "\n",
    "from sklearn.model_selection import GridSearchCV, RandomizedSearchCV\n",
    "\n",
    "def HS_Gridsearch(model,dicparam,score, xtrain, ytrain):\n",
    "    grid_search = GridSearchCV(model,\n",
    "                               dicparam,cv=5, scoring=score,verbose=1,n_jobs=-1\n",
    "                               )\n",
    "    grid_search.fit(xtrain,ytrain)\n",
    "    grid_search.best_params_\n",
    "    return print(grid_search.best_params_, grid_search.best_score_)\n",
    "    \n",
    "    \n",
    "\n",
    "def HS_Randomsearch(model,dicparam,score, xtrain, ytrain):\n",
    "    grid_search = GridSearchCV(model,\n",
    "                               dicparam,cv=5, scoring=score,verbose=1,n_jobs=-1\n",
    "                               )\n",
    "    grid_search.fit(xtrain,ytrain)\n",
    "    grid_search.best_params_\n",
    "    return print(grid_search.best_params_, grid_search.best_score_)"
   ]
  },
  {
   "cell_type": "markdown",
   "id": "68633b3a",
   "metadata": {},
   "source": [
    "# Run hyper parameter function of Random Search for all models"
   ]
  },
  {
   "cell_type": "code",
   "execution_count": 43,
   "id": "5fb7bbe2",
   "metadata": {},
   "outputs": [
    {
     "name": "stdout",
     "output_type": "stream",
     "text": [
      "Fitting 5 folds for each of 120 candidates, totalling 600 fits\n",
      "{'max_features': None, 'min_samples_leaf': 1, 'n_estimators': 120} 0.37558413352126735\n"
     ]
    }
   ],
   "source": [
    "# hyper paramter testing for forest train\n",
    "\n",
    "dicparam = {'n_estimators':np.arange(100,200,10),'max_features':['sqrt','log2',None],'min_samples_leaf':np.arange(1,5)}\n",
    "\n",
    "HS_Randomsearch(RandomForestClassifier(), dicparam, score='f1', xtrain=x_train, ytrain=y_train)\n",
    "\n",
    "\n",
    "# result: {'max_features': None, 'min_samples_leaf': 1, 'n_estimators': 110} 0.37540589163911586\n",
    "# very bad f1 score --> questionable if "
   ]
  },
  {
   "cell_type": "markdown",
   "id": "e39c45c7",
   "metadata": {},
   "source": [
    "### Hyper paramter testing for logistic regression our research has concluded that there is no necesity to tune the parameters of this model"
   ]
  },
  {
   "cell_type": "code",
   "execution_count": 44,
   "id": "ea26b8e7",
   "metadata": {},
   "outputs": [
    {
     "name": "stdout",
     "output_type": "stream",
     "text": [
      "Fitting 5 folds for each of 10 candidates, totalling 50 fits\n"
     ]
    },
    {
     "name": "stderr",
     "output_type": "stream",
     "text": [
      "/Users/edgartome_1/opt/anaconda3/lib/python3.9/site-packages/sklearn/model_selection/_validation.py:615: FitFailedWarning: Estimator fit failed. The score on this train-test partition for these parameters will be set to nan. Details: \n",
      "Traceback (most recent call last):\n",
      "  File \"/Users/edgartome_1/opt/anaconda3/lib/python3.9/site-packages/sklearn/model_selection/_validation.py\", line 598, in _fit_and_score\n",
      "    estimator.fit(X_train, y_train, **fit_params)\n",
      "  File \"/Users/edgartome_1/opt/anaconda3/lib/python3.9/site-packages/sklearn/svm/_base.py\", line 226, in fit\n",
      "    fit(X, y, sample_weight, solver_type, kernel, random_seed=seed)\n",
      "  File \"/Users/edgartome_1/opt/anaconda3/lib/python3.9/site-packages/sklearn/svm/_base.py\", line 277, in _dense_fit\n",
      "    self._probB, self.fit_status_ = libsvm.fit(\n",
      "  File \"sklearn/svm/_libsvm.pyx\", line 192, in sklearn.svm._libsvm.fit\n",
      "ValueError: nu <= 0 or nu > 1\n",
      "\n",
      "  warnings.warn(\"Estimator fit failed. The score on this train-test\"\n",
      "/Users/edgartome_1/opt/anaconda3/lib/python3.9/site-packages/sklearn/model_selection/_validation.py:615: FitFailedWarning: Estimator fit failed. The score on this train-test partition for these parameters will be set to nan. Details: \n",
      "Traceback (most recent call last):\n",
      "  File \"/Users/edgartome_1/opt/anaconda3/lib/python3.9/site-packages/sklearn/model_selection/_validation.py\", line 598, in _fit_and_score\n",
      "    estimator.fit(X_train, y_train, **fit_params)\n",
      "  File \"/Users/edgartome_1/opt/anaconda3/lib/python3.9/site-packages/sklearn/svm/_base.py\", line 226, in fit\n",
      "    fit(X, y, sample_weight, solver_type, kernel, random_seed=seed)\n",
      "  File \"/Users/edgartome_1/opt/anaconda3/lib/python3.9/site-packages/sklearn/svm/_base.py\", line 277, in _dense_fit\n",
      "    self._probB, self.fit_status_ = libsvm.fit(\n",
      "  File \"sklearn/svm/_libsvm.pyx\", line 192, in sklearn.svm._libsvm.fit\n",
      "ValueError: nu <= 0 or nu > 1\n",
      "\n",
      "  warnings.warn(\"Estimator fit failed. The score on this train-test\"\n",
      "/Users/edgartome_1/opt/anaconda3/lib/python3.9/site-packages/sklearn/model_selection/_validation.py:615: FitFailedWarning: Estimator fit failed. The score on this train-test partition for these parameters will be set to nan. Details: \n",
      "Traceback (most recent call last):\n",
      "  File \"/Users/edgartome_1/opt/anaconda3/lib/python3.9/site-packages/sklearn/model_selection/_validation.py\", line 598, in _fit_and_score\n",
      "    estimator.fit(X_train, y_train, **fit_params)\n",
      "  File \"/Users/edgartome_1/opt/anaconda3/lib/python3.9/site-packages/sklearn/svm/_base.py\", line 226, in fit\n",
      "    fit(X, y, sample_weight, solver_type, kernel, random_seed=seed)\n",
      "  File \"/Users/edgartome_1/opt/anaconda3/lib/python3.9/site-packages/sklearn/svm/_base.py\", line 277, in _dense_fit\n",
      "    self._probB, self.fit_status_ = libsvm.fit(\n",
      "  File \"sklearn/svm/_libsvm.pyx\", line 192, in sklearn.svm._libsvm.fit\n",
      "ValueError: nu <= 0 or nu > 1\n",
      "\n",
      "  warnings.warn(\"Estimator fit failed. The score on this train-test\"\n",
      "/Users/edgartome_1/opt/anaconda3/lib/python3.9/site-packages/sklearn/model_selection/_validation.py:615: FitFailedWarning: Estimator fit failed. The score on this train-test partition for these parameters will be set to nan. Details: \n",
      "Traceback (most recent call last):\n",
      "  File \"/Users/edgartome_1/opt/anaconda3/lib/python3.9/site-packages/sklearn/model_selection/_validation.py\", line 598, in _fit_and_score\n",
      "    estimator.fit(X_train, y_train, **fit_params)\n",
      "  File \"/Users/edgartome_1/opt/anaconda3/lib/python3.9/site-packages/sklearn/svm/_base.py\", line 226, in fit\n",
      "    fit(X, y, sample_weight, solver_type, kernel, random_seed=seed)\n",
      "  File \"/Users/edgartome_1/opt/anaconda3/lib/python3.9/site-packages/sklearn/svm/_base.py\", line 277, in _dense_fit\n",
      "    self._probB, self.fit_status_ = libsvm.fit(\n",
      "  File \"sklearn/svm/_libsvm.pyx\", line 192, in sklearn.svm._libsvm.fit\n",
      "ValueError: nu <= 0 or nu > 1\n",
      "\n",
      "  warnings.warn(\"Estimator fit failed. The score on this train-test\"\n",
      "/Users/edgartome_1/opt/anaconda3/lib/python3.9/site-packages/sklearn/model_selection/_validation.py:615: FitFailedWarning: Estimator fit failed. The score on this train-test partition for these parameters will be set to nan. Details: \n",
      "Traceback (most recent call last):\n",
      "  File \"/Users/edgartome_1/opt/anaconda3/lib/python3.9/site-packages/sklearn/model_selection/_validation.py\", line 598, in _fit_and_score\n",
      "    estimator.fit(X_train, y_train, **fit_params)\n",
      "  File \"/Users/edgartome_1/opt/anaconda3/lib/python3.9/site-packages/sklearn/svm/_base.py\", line 226, in fit\n",
      "    fit(X, y, sample_weight, solver_type, kernel, random_seed=seed)\n",
      "  File \"/Users/edgartome_1/opt/anaconda3/lib/python3.9/site-packages/sklearn/svm/_base.py\", line 277, in _dense_fit\n",
      "    self._probB, self.fit_status_ = libsvm.fit(\n",
      "  File \"sklearn/svm/_libsvm.pyx\", line 192, in sklearn.svm._libsvm.fit\n",
      "ValueError: nu <= 0 or nu > 1\n",
      "\n",
      "  warnings.warn(\"Estimator fit failed. The score on this train-test\"\n",
      "/Users/edgartome_1/opt/anaconda3/lib/python3.9/site-packages/sklearn/model_selection/_validation.py:615: FitFailedWarning: Estimator fit failed. The score on this train-test partition for these parameters will be set to nan. Details: \n",
      "Traceback (most recent call last):\n",
      "  File \"/Users/edgartome_1/opt/anaconda3/lib/python3.9/site-packages/sklearn/model_selection/_validation.py\", line 598, in _fit_and_score\n",
      "    estimator.fit(X_train, y_train, **fit_params)\n",
      "  File \"/Users/edgartome_1/opt/anaconda3/lib/python3.9/site-packages/sklearn/svm/_base.py\", line 226, in fit\n",
      "    fit(X, y, sample_weight, solver_type, kernel, random_seed=seed)\n",
      "  File \"/Users/edgartome_1/opt/anaconda3/lib/python3.9/site-packages/sklearn/svm/_base.py\", line 277, in _dense_fit\n",
      "    self._probB, self.fit_status_ = libsvm.fit(\n",
      "  File \"sklearn/svm/_libsvm.pyx\", line 192, in sklearn.svm._libsvm.fit\n",
      "ValueError: specified nu is infeasible\n",
      "\n",
      "  warnings.warn(\"Estimator fit failed. The score on this train-test\"\n",
      "/Users/edgartome_1/opt/anaconda3/lib/python3.9/site-packages/sklearn/model_selection/_validation.py:615: FitFailedWarning: Estimator fit failed. The score on this train-test partition for these parameters will be set to nan. Details: \n",
      "Traceback (most recent call last):\n",
      "  File \"/Users/edgartome_1/opt/anaconda3/lib/python3.9/site-packages/sklearn/model_selection/_validation.py\", line 598, in _fit_and_score\n",
      "    estimator.fit(X_train, y_train, **fit_params)\n",
      "  File \"/Users/edgartome_1/opt/anaconda3/lib/python3.9/site-packages/sklearn/svm/_base.py\", line 226, in fit\n",
      "    fit(X, y, sample_weight, solver_type, kernel, random_seed=seed)\n",
      "  File \"/Users/edgartome_1/opt/anaconda3/lib/python3.9/site-packages/sklearn/svm/_base.py\", line 277, in _dense_fit\n",
      "    self._probB, self.fit_status_ = libsvm.fit(\n",
      "  File \"sklearn/svm/_libsvm.pyx\", line 192, in sklearn.svm._libsvm.fit\n",
      "ValueError: specified nu is infeasible\n",
      "\n",
      "  warnings.warn(\"Estimator fit failed. The score on this train-test\"\n",
      "/Users/edgartome_1/opt/anaconda3/lib/python3.9/site-packages/sklearn/model_selection/_validation.py:615: FitFailedWarning: Estimator fit failed. The score on this train-test partition for these parameters will be set to nan. Details: \n",
      "Traceback (most recent call last):\n",
      "  File \"/Users/edgartome_1/opt/anaconda3/lib/python3.9/site-packages/sklearn/model_selection/_validation.py\", line 598, in _fit_and_score\n",
      "    estimator.fit(X_train, y_train, **fit_params)\n",
      "  File \"/Users/edgartome_1/opt/anaconda3/lib/python3.9/site-packages/sklearn/svm/_base.py\", line 226, in fit\n",
      "    fit(X, y, sample_weight, solver_type, kernel, random_seed=seed)\n",
      "  File \"/Users/edgartome_1/opt/anaconda3/lib/python3.9/site-packages/sklearn/svm/_base.py\", line 277, in _dense_fit\n",
      "    self._probB, self.fit_status_ = libsvm.fit(\n",
      "  File \"sklearn/svm/_libsvm.pyx\", line 192, in sklearn.svm._libsvm.fit\n",
      "ValueError: specified nu is infeasible\n",
      "\n",
      "  warnings.warn(\"Estimator fit failed. The score on this train-test\"\n",
      "/Users/edgartome_1/opt/anaconda3/lib/python3.9/site-packages/sklearn/model_selection/_validation.py:615: FitFailedWarning: Estimator fit failed. The score on this train-test partition for these parameters will be set to nan. Details: \n",
      "Traceback (most recent call last):\n",
      "  File \"/Users/edgartome_1/opt/anaconda3/lib/python3.9/site-packages/sklearn/model_selection/_validation.py\", line 598, in _fit_and_score\n",
      "    estimator.fit(X_train, y_train, **fit_params)\n",
      "  File \"/Users/edgartome_1/opt/anaconda3/lib/python3.9/site-packages/sklearn/svm/_base.py\", line 226, in fit\n",
      "    fit(X, y, sample_weight, solver_type, kernel, random_seed=seed)\n",
      "  File \"/Users/edgartome_1/opt/anaconda3/lib/python3.9/site-packages/sklearn/svm/_base.py\", line 277, in _dense_fit\n",
      "    self._probB, self.fit_status_ = libsvm.fit(\n",
      "  File \"sklearn/svm/_libsvm.pyx\", line 192, in sklearn.svm._libsvm.fit\n",
      "ValueError: specified nu is infeasible\n",
      "\n",
      "  warnings.warn(\"Estimator fit failed. The score on this train-test\"\n",
      "/Users/edgartome_1/opt/anaconda3/lib/python3.9/site-packages/sklearn/model_selection/_validation.py:615: FitFailedWarning: Estimator fit failed. The score on this train-test partition for these parameters will be set to nan. Details: \n",
      "Traceback (most recent call last):\n",
      "  File \"/Users/edgartome_1/opt/anaconda3/lib/python3.9/site-packages/sklearn/model_selection/_validation.py\", line 598, in _fit_and_score\n",
      "    estimator.fit(X_train, y_train, **fit_params)\n",
      "  File \"/Users/edgartome_1/opt/anaconda3/lib/python3.9/site-packages/sklearn/svm/_base.py\", line 226, in fit\n",
      "    fit(X, y, sample_weight, solver_type, kernel, random_seed=seed)\n",
      "  File \"/Users/edgartome_1/opt/anaconda3/lib/python3.9/site-packages/sklearn/svm/_base.py\", line 277, in _dense_fit\n",
      "    self._probB, self.fit_status_ = libsvm.fit(\n",
      "  File \"sklearn/svm/_libsvm.pyx\", line 192, in sklearn.svm._libsvm.fit\n",
      "ValueError: specified nu is infeasible\n",
      "\n",
      "  warnings.warn(\"Estimator fit failed. The score on this train-test\"\n",
      "/Users/edgartome_1/opt/anaconda3/lib/python3.9/site-packages/sklearn/model_selection/_validation.py:615: FitFailedWarning: Estimator fit failed. The score on this train-test partition for these parameters will be set to nan. Details: \n",
      "Traceback (most recent call last):\n",
      "  File \"/Users/edgartome_1/opt/anaconda3/lib/python3.9/site-packages/sklearn/model_selection/_validation.py\", line 598, in _fit_and_score\n",
      "    estimator.fit(X_train, y_train, **fit_params)\n",
      "  File \"/Users/edgartome_1/opt/anaconda3/lib/python3.9/site-packages/sklearn/svm/_base.py\", line 226, in fit\n",
      "    fit(X, y, sample_weight, solver_type, kernel, random_seed=seed)\n",
      "  File \"/Users/edgartome_1/opt/anaconda3/lib/python3.9/site-packages/sklearn/svm/_base.py\", line 277, in _dense_fit\n",
      "    self._probB, self.fit_status_ = libsvm.fit(\n",
      "  File \"sklearn/svm/_libsvm.pyx\", line 192, in sklearn.svm._libsvm.fit\n",
      "ValueError: specified nu is infeasible\n",
      "\n",
      "  warnings.warn(\"Estimator fit failed. The score on this train-test\"\n",
      "/Users/edgartome_1/opt/anaconda3/lib/python3.9/site-packages/sklearn/model_selection/_validation.py:615: FitFailedWarning: Estimator fit failed. The score on this train-test partition for these parameters will be set to nan. Details: \n",
      "Traceback (most recent call last):\n",
      "  File \"/Users/edgartome_1/opt/anaconda3/lib/python3.9/site-packages/sklearn/model_selection/_validation.py\", line 598, in _fit_and_score\n",
      "    estimator.fit(X_train, y_train, **fit_params)\n",
      "  File \"/Users/edgartome_1/opt/anaconda3/lib/python3.9/site-packages/sklearn/svm/_base.py\", line 226, in fit\n",
      "    fit(X, y, sample_weight, solver_type, kernel, random_seed=seed)\n",
      "  File \"/Users/edgartome_1/opt/anaconda3/lib/python3.9/site-packages/sklearn/svm/_base.py\", line 277, in _dense_fit\n",
      "    self._probB, self.fit_status_ = libsvm.fit(\n",
      "  File \"sklearn/svm/_libsvm.pyx\", line 192, in sklearn.svm._libsvm.fit\n",
      "ValueError: specified nu is infeasible\n",
      "\n",
      "  warnings.warn(\"Estimator fit failed. The score on this train-test\"\n",
      "/Users/edgartome_1/opt/anaconda3/lib/python3.9/site-packages/sklearn/model_selection/_validation.py:615: FitFailedWarning: Estimator fit failed. The score on this train-test partition for these parameters will be set to nan. Details: \n",
      "Traceback (most recent call last):\n",
      "  File \"/Users/edgartome_1/opt/anaconda3/lib/python3.9/site-packages/sklearn/model_selection/_validation.py\", line 598, in _fit_and_score\n",
      "    estimator.fit(X_train, y_train, **fit_params)\n",
      "  File \"/Users/edgartome_1/opt/anaconda3/lib/python3.9/site-packages/sklearn/svm/_base.py\", line 226, in fit\n",
      "    fit(X, y, sample_weight, solver_type, kernel, random_seed=seed)\n",
      "  File \"/Users/edgartome_1/opt/anaconda3/lib/python3.9/site-packages/sklearn/svm/_base.py\", line 277, in _dense_fit\n",
      "    self._probB, self.fit_status_ = libsvm.fit(\n",
      "  File \"sklearn/svm/_libsvm.pyx\", line 192, in sklearn.svm._libsvm.fit\n",
      "ValueError: specified nu is infeasible\n",
      "\n",
      "  warnings.warn(\"Estimator fit failed. The score on this train-test\"\n",
      "/Users/edgartome_1/opt/anaconda3/lib/python3.9/site-packages/sklearn/model_selection/_validation.py:615: FitFailedWarning: Estimator fit failed. The score on this train-test partition for these parameters will be set to nan. Details: \n",
      "Traceback (most recent call last):\n",
      "  File \"/Users/edgartome_1/opt/anaconda3/lib/python3.9/site-packages/sklearn/model_selection/_validation.py\", line 598, in _fit_and_score\n",
      "    estimator.fit(X_train, y_train, **fit_params)\n",
      "  File \"/Users/edgartome_1/opt/anaconda3/lib/python3.9/site-packages/sklearn/svm/_base.py\", line 226, in fit\n",
      "    fit(X, y, sample_weight, solver_type, kernel, random_seed=seed)\n",
      "  File \"/Users/edgartome_1/opt/anaconda3/lib/python3.9/site-packages/sklearn/svm/_base.py\", line 277, in _dense_fit\n",
      "    self._probB, self.fit_status_ = libsvm.fit(\n",
      "  File \"sklearn/svm/_libsvm.pyx\", line 192, in sklearn.svm._libsvm.fit\n",
      "ValueError: specified nu is infeasible\n",
      "\n",
      "  warnings.warn(\"Estimator fit failed. The score on this train-test\"\n",
      "/Users/edgartome_1/opt/anaconda3/lib/python3.9/site-packages/sklearn/model_selection/_validation.py:615: FitFailedWarning: Estimator fit failed. The score on this train-test partition for these parameters will be set to nan. Details: \n",
      "Traceback (most recent call last):\n",
      "  File \"/Users/edgartome_1/opt/anaconda3/lib/python3.9/site-packages/sklearn/model_selection/_validation.py\", line 598, in _fit_and_score\n",
      "    estimator.fit(X_train, y_train, **fit_params)\n",
      "  File \"/Users/edgartome_1/opt/anaconda3/lib/python3.9/site-packages/sklearn/svm/_base.py\", line 226, in fit\n",
      "    fit(X, y, sample_weight, solver_type, kernel, random_seed=seed)\n",
      "  File \"/Users/edgartome_1/opt/anaconda3/lib/python3.9/site-packages/sklearn/svm/_base.py\", line 277, in _dense_fit\n",
      "    self._probB, self.fit_status_ = libsvm.fit(\n",
      "  File \"sklearn/svm/_libsvm.pyx\", line 192, in sklearn.svm._libsvm.fit\n",
      "ValueError: specified nu is infeasible\n",
      "\n",
      "  warnings.warn(\"Estimator fit failed. The score on this train-test\"\n",
      "/Users/edgartome_1/opt/anaconda3/lib/python3.9/site-packages/sklearn/model_selection/_validation.py:615: FitFailedWarning: Estimator fit failed. The score on this train-test partition for these parameters will be set to nan. Details: \n",
      "Traceback (most recent call last):\n",
      "  File \"/Users/edgartome_1/opt/anaconda3/lib/python3.9/site-packages/sklearn/model_selection/_validation.py\", line 598, in _fit_and_score\n",
      "    estimator.fit(X_train, y_train, **fit_params)\n",
      "  File \"/Users/edgartome_1/opt/anaconda3/lib/python3.9/site-packages/sklearn/svm/_base.py\", line 226, in fit\n",
      "    fit(X, y, sample_weight, solver_type, kernel, random_seed=seed)\n",
      "  File \"/Users/edgartome_1/opt/anaconda3/lib/python3.9/site-packages/sklearn/svm/_base.py\", line 277, in _dense_fit\n",
      "    self._probB, self.fit_status_ = libsvm.fit(\n",
      "  File \"sklearn/svm/_libsvm.pyx\", line 192, in sklearn.svm._libsvm.fit\n",
      "ValueError: specified nu is infeasible\n",
      "\n",
      "  warnings.warn(\"Estimator fit failed. The score on this train-test\"\n",
      "/Users/edgartome_1/opt/anaconda3/lib/python3.9/site-packages/sklearn/model_selection/_validation.py:615: FitFailedWarning: Estimator fit failed. The score on this train-test partition for these parameters will be set to nan. Details: \n",
      "Traceback (most recent call last):\n",
      "  File \"/Users/edgartome_1/opt/anaconda3/lib/python3.9/site-packages/sklearn/model_selection/_validation.py\", line 598, in _fit_and_score\n",
      "    estimator.fit(X_train, y_train, **fit_params)\n",
      "  File \"/Users/edgartome_1/opt/anaconda3/lib/python3.9/site-packages/sklearn/svm/_base.py\", line 226, in fit\n",
      "    fit(X, y, sample_weight, solver_type, kernel, random_seed=seed)\n",
      "  File \"/Users/edgartome_1/opt/anaconda3/lib/python3.9/site-packages/sklearn/svm/_base.py\", line 277, in _dense_fit\n",
      "    self._probB, self.fit_status_ = libsvm.fit(\n",
      "  File \"sklearn/svm/_libsvm.pyx\", line 192, in sklearn.svm._libsvm.fit\n",
      "ValueError: specified nu is infeasible\n",
      "\n",
      "  warnings.warn(\"Estimator fit failed. The score on this train-test\"\n",
      "/Users/edgartome_1/opt/anaconda3/lib/python3.9/site-packages/sklearn/model_selection/_validation.py:615: FitFailedWarning: Estimator fit failed. The score on this train-test partition for these parameters will be set to nan. Details: \n",
      "Traceback (most recent call last):\n",
      "  File \"/Users/edgartome_1/opt/anaconda3/lib/python3.9/site-packages/sklearn/model_selection/_validation.py\", line 598, in _fit_and_score\n",
      "    estimator.fit(X_train, y_train, **fit_params)\n",
      "  File \"/Users/edgartome_1/opt/anaconda3/lib/python3.9/site-packages/sklearn/svm/_base.py\", line 226, in fit\n",
      "    fit(X, y, sample_weight, solver_type, kernel, random_seed=seed)\n",
      "  File \"/Users/edgartome_1/opt/anaconda3/lib/python3.9/site-packages/sklearn/svm/_base.py\", line 277, in _dense_fit\n",
      "    self._probB, self.fit_status_ = libsvm.fit(\n",
      "  File \"sklearn/svm/_libsvm.pyx\", line 192, in sklearn.svm._libsvm.fit\n",
      "ValueError: specified nu is infeasible\n",
      "\n",
      "  warnings.warn(\"Estimator fit failed. The score on this train-test\"\n",
      "/Users/edgartome_1/opt/anaconda3/lib/python3.9/site-packages/sklearn/model_selection/_validation.py:615: FitFailedWarning: Estimator fit failed. The score on this train-test partition for these parameters will be set to nan. Details: \n",
      "Traceback (most recent call last):\n",
      "  File \"/Users/edgartome_1/opt/anaconda3/lib/python3.9/site-packages/sklearn/model_selection/_validation.py\", line 598, in _fit_and_score\n",
      "    estimator.fit(X_train, y_train, **fit_params)\n",
      "  File \"/Users/edgartome_1/opt/anaconda3/lib/python3.9/site-packages/sklearn/svm/_base.py\", line 226, in fit\n",
      "    fit(X, y, sample_weight, solver_type, kernel, random_seed=seed)\n",
      "  File \"/Users/edgartome_1/opt/anaconda3/lib/python3.9/site-packages/sklearn/svm/_base.py\", line 277, in _dense_fit\n",
      "    self._probB, self.fit_status_ = libsvm.fit(\n",
      "  File \"sklearn/svm/_libsvm.pyx\", line 192, in sklearn.svm._libsvm.fit\n",
      "ValueError: specified nu is infeasible\n",
      "\n",
      "  warnings.warn(\"Estimator fit failed. The score on this train-test\"\n",
      "/Users/edgartome_1/opt/anaconda3/lib/python3.9/site-packages/sklearn/model_selection/_validation.py:615: FitFailedWarning: Estimator fit failed. The score on this train-test partition for these parameters will be set to nan. Details: \n",
      "Traceback (most recent call last):\n",
      "  File \"/Users/edgartome_1/opt/anaconda3/lib/python3.9/site-packages/sklearn/model_selection/_validation.py\", line 598, in _fit_and_score\n",
      "    estimator.fit(X_train, y_train, **fit_params)\n",
      "  File \"/Users/edgartome_1/opt/anaconda3/lib/python3.9/site-packages/sklearn/svm/_base.py\", line 226, in fit\n",
      "    fit(X, y, sample_weight, solver_type, kernel, random_seed=seed)\n",
      "  File \"/Users/edgartome_1/opt/anaconda3/lib/python3.9/site-packages/sklearn/svm/_base.py\", line 277, in _dense_fit\n",
      "    self._probB, self.fit_status_ = libsvm.fit(\n",
      "  File \"sklearn/svm/_libsvm.pyx\", line 192, in sklearn.svm._libsvm.fit\n",
      "ValueError: specified nu is infeasible\n",
      "\n",
      "  warnings.warn(\"Estimator fit failed. The score on this train-test\"\n",
      "/Users/edgartome_1/opt/anaconda3/lib/python3.9/site-packages/sklearn/model_selection/_validation.py:615: FitFailedWarning: Estimator fit failed. The score on this train-test partition for these parameters will be set to nan. Details: \n",
      "Traceback (most recent call last):\n",
      "  File \"/Users/edgartome_1/opt/anaconda3/lib/python3.9/site-packages/sklearn/model_selection/_validation.py\", line 598, in _fit_and_score\n",
      "    estimator.fit(X_train, y_train, **fit_params)\n",
      "  File \"/Users/edgartome_1/opt/anaconda3/lib/python3.9/site-packages/sklearn/svm/_base.py\", line 226, in fit\n",
      "    fit(X, y, sample_weight, solver_type, kernel, random_seed=seed)\n",
      "  File \"/Users/edgartome_1/opt/anaconda3/lib/python3.9/site-packages/sklearn/svm/_base.py\", line 277, in _dense_fit\n",
      "    self._probB, self.fit_status_ = libsvm.fit(\n",
      "  File \"sklearn/svm/_libsvm.pyx\", line 192, in sklearn.svm._libsvm.fit\n",
      "ValueError: specified nu is infeasible\n",
      "\n",
      "  warnings.warn(\"Estimator fit failed. The score on this train-test\"\n",
      "/Users/edgartome_1/opt/anaconda3/lib/python3.9/site-packages/sklearn/model_selection/_validation.py:615: FitFailedWarning: Estimator fit failed. The score on this train-test partition for these parameters will be set to nan. Details: \n",
      "Traceback (most recent call last):\n",
      "  File \"/Users/edgartome_1/opt/anaconda3/lib/python3.9/site-packages/sklearn/model_selection/_validation.py\", line 598, in _fit_and_score\n",
      "    estimator.fit(X_train, y_train, **fit_params)\n",
      "  File \"/Users/edgartome_1/opt/anaconda3/lib/python3.9/site-packages/sklearn/svm/_base.py\", line 226, in fit\n",
      "    fit(X, y, sample_weight, solver_type, kernel, random_seed=seed)\n",
      "  File \"/Users/edgartome_1/opt/anaconda3/lib/python3.9/site-packages/sklearn/svm/_base.py\", line 277, in _dense_fit\n",
      "    self._probB, self.fit_status_ = libsvm.fit(\n",
      "  File \"sklearn/svm/_libsvm.pyx\", line 192, in sklearn.svm._libsvm.fit\n",
      "ValueError: specified nu is infeasible\n",
      "\n",
      "  warnings.warn(\"Estimator fit failed. The score on this train-test\"\n",
      "/Users/edgartome_1/opt/anaconda3/lib/python3.9/site-packages/sklearn/model_selection/_validation.py:615: FitFailedWarning: Estimator fit failed. The score on this train-test partition for these parameters will be set to nan. Details: \n",
      "Traceback (most recent call last):\n",
      "  File \"/Users/edgartome_1/opt/anaconda3/lib/python3.9/site-packages/sklearn/model_selection/_validation.py\", line 598, in _fit_and_score\n",
      "    estimator.fit(X_train, y_train, **fit_params)\n",
      "  File \"/Users/edgartome_1/opt/anaconda3/lib/python3.9/site-packages/sklearn/svm/_base.py\", line 226, in fit\n",
      "    fit(X, y, sample_weight, solver_type, kernel, random_seed=seed)\n",
      "  File \"/Users/edgartome_1/opt/anaconda3/lib/python3.9/site-packages/sklearn/svm/_base.py\", line 277, in _dense_fit\n",
      "    self._probB, self.fit_status_ = libsvm.fit(\n",
      "  File \"sklearn/svm/_libsvm.pyx\", line 192, in sklearn.svm._libsvm.fit\n",
      "ValueError: specified nu is infeasible\n",
      "\n",
      "  warnings.warn(\"Estimator fit failed. The score on this train-test\"\n",
      "/Users/edgartome_1/opt/anaconda3/lib/python3.9/site-packages/sklearn/model_selection/_validation.py:615: FitFailedWarning: Estimator fit failed. The score on this train-test partition for these parameters will be set to nan. Details: \n",
      "Traceback (most recent call last):\n",
      "  File \"/Users/edgartome_1/opt/anaconda3/lib/python3.9/site-packages/sklearn/model_selection/_validation.py\", line 598, in _fit_and_score\n",
      "    estimator.fit(X_train, y_train, **fit_params)\n",
      "  File \"/Users/edgartome_1/opt/anaconda3/lib/python3.9/site-packages/sklearn/svm/_base.py\", line 226, in fit\n",
      "    fit(X, y, sample_weight, solver_type, kernel, random_seed=seed)\n",
      "  File \"/Users/edgartome_1/opt/anaconda3/lib/python3.9/site-packages/sklearn/svm/_base.py\", line 277, in _dense_fit\n",
      "    self._probB, self.fit_status_ = libsvm.fit(\n",
      "  File \"sklearn/svm/_libsvm.pyx\", line 192, in sklearn.svm._libsvm.fit\n",
      "ValueError: specified nu is infeasible\n",
      "\n",
      "  warnings.warn(\"Estimator fit failed. The score on this train-test\"\n",
      "/Users/edgartome_1/opt/anaconda3/lib/python3.9/site-packages/sklearn/model_selection/_validation.py:615: FitFailedWarning: Estimator fit failed. The score on this train-test partition for these parameters will be set to nan. Details: \n",
      "Traceback (most recent call last):\n",
      "  File \"/Users/edgartome_1/opt/anaconda3/lib/python3.9/site-packages/sklearn/model_selection/_validation.py\", line 598, in _fit_and_score\n",
      "    estimator.fit(X_train, y_train, **fit_params)\n",
      "  File \"/Users/edgartome_1/opt/anaconda3/lib/python3.9/site-packages/sklearn/svm/_base.py\", line 226, in fit\n",
      "    fit(X, y, sample_weight, solver_type, kernel, random_seed=seed)\n",
      "  File \"/Users/edgartome_1/opt/anaconda3/lib/python3.9/site-packages/sklearn/svm/_base.py\", line 277, in _dense_fit\n",
      "    self._probB, self.fit_status_ = libsvm.fit(\n",
      "  File \"sklearn/svm/_libsvm.pyx\", line 192, in sklearn.svm._libsvm.fit\n",
      "ValueError: specified nu is infeasible\n",
      "\n",
      "  warnings.warn(\"Estimator fit failed. The score on this train-test\"\n",
      "/Users/edgartome_1/opt/anaconda3/lib/python3.9/site-packages/sklearn/model_selection/_validation.py:615: FitFailedWarning: Estimator fit failed. The score on this train-test partition for these parameters will be set to nan. Details: \n",
      "Traceback (most recent call last):\n",
      "  File \"/Users/edgartome_1/opt/anaconda3/lib/python3.9/site-packages/sklearn/model_selection/_validation.py\", line 598, in _fit_and_score\n",
      "    estimator.fit(X_train, y_train, **fit_params)\n",
      "  File \"/Users/edgartome_1/opt/anaconda3/lib/python3.9/site-packages/sklearn/svm/_base.py\", line 226, in fit\n",
      "    fit(X, y, sample_weight, solver_type, kernel, random_seed=seed)\n",
      "  File \"/Users/edgartome_1/opt/anaconda3/lib/python3.9/site-packages/sklearn/svm/_base.py\", line 277, in _dense_fit\n",
      "    self._probB, self.fit_status_ = libsvm.fit(\n",
      "  File \"sklearn/svm/_libsvm.pyx\", line 192, in sklearn.svm._libsvm.fit\n",
      "ValueError: specified nu is infeasible\n",
      "\n",
      "  warnings.warn(\"Estimator fit failed. The score on this train-test\"\n",
      "/Users/edgartome_1/opt/anaconda3/lib/python3.9/site-packages/sklearn/model_selection/_validation.py:615: FitFailedWarning: Estimator fit failed. The score on this train-test partition for these parameters will be set to nan. Details: \n",
      "Traceback (most recent call last):\n",
      "  File \"/Users/edgartome_1/opt/anaconda3/lib/python3.9/site-packages/sklearn/model_selection/_validation.py\", line 598, in _fit_and_score\n",
      "    estimator.fit(X_train, y_train, **fit_params)\n",
      "  File \"/Users/edgartome_1/opt/anaconda3/lib/python3.9/site-packages/sklearn/svm/_base.py\", line 226, in fit\n",
      "    fit(X, y, sample_weight, solver_type, kernel, random_seed=seed)\n",
      "  File \"/Users/edgartome_1/opt/anaconda3/lib/python3.9/site-packages/sklearn/svm/_base.py\", line 277, in _dense_fit\n",
      "    self._probB, self.fit_status_ = libsvm.fit(\n",
      "  File \"sklearn/svm/_libsvm.pyx\", line 192, in sklearn.svm._libsvm.fit\n",
      "ValueError: specified nu is infeasible\n",
      "\n",
      "  warnings.warn(\"Estimator fit failed. The score on this train-test\"\n",
      "/Users/edgartome_1/opt/anaconda3/lib/python3.9/site-packages/sklearn/model_selection/_validation.py:615: FitFailedWarning: Estimator fit failed. The score on this train-test partition for these parameters will be set to nan. Details: \n",
      "Traceback (most recent call last):\n",
      "  File \"/Users/edgartome_1/opt/anaconda3/lib/python3.9/site-packages/sklearn/model_selection/_validation.py\", line 598, in _fit_and_score\n",
      "    estimator.fit(X_train, y_train, **fit_params)\n",
      "  File \"/Users/edgartome_1/opt/anaconda3/lib/python3.9/site-packages/sklearn/svm/_base.py\", line 226, in fit\n",
      "    fit(X, y, sample_weight, solver_type, kernel, random_seed=seed)\n",
      "  File \"/Users/edgartome_1/opt/anaconda3/lib/python3.9/site-packages/sklearn/svm/_base.py\", line 277, in _dense_fit\n",
      "    self._probB, self.fit_status_ = libsvm.fit(\n",
      "  File \"sklearn/svm/_libsvm.pyx\", line 192, in sklearn.svm._libsvm.fit\n",
      "ValueError: specified nu is infeasible\n",
      "\n",
      "  warnings.warn(\"Estimator fit failed. The score on this train-test\"\n",
      "/Users/edgartome_1/opt/anaconda3/lib/python3.9/site-packages/sklearn/model_selection/_validation.py:615: FitFailedWarning: Estimator fit failed. The score on this train-test partition for these parameters will be set to nan. Details: \n",
      "Traceback (most recent call last):\n",
      "  File \"/Users/edgartome_1/opt/anaconda3/lib/python3.9/site-packages/sklearn/model_selection/_validation.py\", line 598, in _fit_and_score\n",
      "    estimator.fit(X_train, y_train, **fit_params)\n",
      "  File \"/Users/edgartome_1/opt/anaconda3/lib/python3.9/site-packages/sklearn/svm/_base.py\", line 226, in fit\n",
      "    fit(X, y, sample_weight, solver_type, kernel, random_seed=seed)\n",
      "  File \"/Users/edgartome_1/opt/anaconda3/lib/python3.9/site-packages/sklearn/svm/_base.py\", line 277, in _dense_fit\n",
      "    self._probB, self.fit_status_ = libsvm.fit(\n",
      "  File \"sklearn/svm/_libsvm.pyx\", line 192, in sklearn.svm._libsvm.fit\n",
      "ValueError: specified nu is infeasible\n",
      "\n",
      "  warnings.warn(\"Estimator fit failed. The score on this train-test\"\n",
      "/Users/edgartome_1/opt/anaconda3/lib/python3.9/site-packages/sklearn/model_selection/_validation.py:615: FitFailedWarning: Estimator fit failed. The score on this train-test partition for these parameters will be set to nan. Details: \n",
      "Traceback (most recent call last):\n",
      "  File \"/Users/edgartome_1/opt/anaconda3/lib/python3.9/site-packages/sklearn/model_selection/_validation.py\", line 598, in _fit_and_score\n",
      "    estimator.fit(X_train, y_train, **fit_params)\n",
      "  File \"/Users/edgartome_1/opt/anaconda3/lib/python3.9/site-packages/sklearn/svm/_base.py\", line 226, in fit\n",
      "    fit(X, y, sample_weight, solver_type, kernel, random_seed=seed)\n",
      "  File \"/Users/edgartome_1/opt/anaconda3/lib/python3.9/site-packages/sklearn/svm/_base.py\", line 277, in _dense_fit\n",
      "    self._probB, self.fit_status_ = libsvm.fit(\n",
      "  File \"sklearn/svm/_libsvm.pyx\", line 192, in sklearn.svm._libsvm.fit\n",
      "ValueError: specified nu is infeasible\n",
      "\n",
      "  warnings.warn(\"Estimator fit failed. The score on this train-test\"\n",
      "/Users/edgartome_1/opt/anaconda3/lib/python3.9/site-packages/sklearn/model_selection/_validation.py:615: FitFailedWarning: Estimator fit failed. The score on this train-test partition for these parameters will be set to nan. Details: \n",
      "Traceback (most recent call last):\n",
      "  File \"/Users/edgartome_1/opt/anaconda3/lib/python3.9/site-packages/sklearn/model_selection/_validation.py\", line 598, in _fit_and_score\n",
      "    estimator.fit(X_train, y_train, **fit_params)\n",
      "  File \"/Users/edgartome_1/opt/anaconda3/lib/python3.9/site-packages/sklearn/svm/_base.py\", line 226, in fit\n",
      "    fit(X, y, sample_weight, solver_type, kernel, random_seed=seed)\n",
      "  File \"/Users/edgartome_1/opt/anaconda3/lib/python3.9/site-packages/sklearn/svm/_base.py\", line 277, in _dense_fit\n",
      "    self._probB, self.fit_status_ = libsvm.fit(\n",
      "  File \"sklearn/svm/_libsvm.pyx\", line 192, in sklearn.svm._libsvm.fit\n",
      "ValueError: specified nu is infeasible\n",
      "\n",
      "  warnings.warn(\"Estimator fit failed. The score on this train-test\"\n",
      "/Users/edgartome_1/opt/anaconda3/lib/python3.9/site-packages/sklearn/model_selection/_validation.py:615: FitFailedWarning: Estimator fit failed. The score on this train-test partition for these parameters will be set to nan. Details: \n",
      "Traceback (most recent call last):\n",
      "  File \"/Users/edgartome_1/opt/anaconda3/lib/python3.9/site-packages/sklearn/model_selection/_validation.py\", line 598, in _fit_and_score\n",
      "    estimator.fit(X_train, y_train, **fit_params)\n",
      "  File \"/Users/edgartome_1/opt/anaconda3/lib/python3.9/site-packages/sklearn/svm/_base.py\", line 226, in fit\n",
      "    fit(X, y, sample_weight, solver_type, kernel, random_seed=seed)\n",
      "  File \"/Users/edgartome_1/opt/anaconda3/lib/python3.9/site-packages/sklearn/svm/_base.py\", line 277, in _dense_fit\n",
      "    self._probB, self.fit_status_ = libsvm.fit(\n",
      "  File \"sklearn/svm/_libsvm.pyx\", line 192, in sklearn.svm._libsvm.fit\n",
      "ValueError: specified nu is infeasible\n",
      "\n",
      "  warnings.warn(\"Estimator fit failed. The score on this train-test\"\n",
      "/Users/edgartome_1/opt/anaconda3/lib/python3.9/site-packages/sklearn/model_selection/_validation.py:615: FitFailedWarning: Estimator fit failed. The score on this train-test partition for these parameters will be set to nan. Details: \n",
      "Traceback (most recent call last):\n",
      "  File \"/Users/edgartome_1/opt/anaconda3/lib/python3.9/site-packages/sklearn/model_selection/_validation.py\", line 598, in _fit_and_score\n",
      "    estimator.fit(X_train, y_train, **fit_params)\n",
      "  File \"/Users/edgartome_1/opt/anaconda3/lib/python3.9/site-packages/sklearn/svm/_base.py\", line 226, in fit\n",
      "    fit(X, y, sample_weight, solver_type, kernel, random_seed=seed)\n",
      "  File \"/Users/edgartome_1/opt/anaconda3/lib/python3.9/site-packages/sklearn/svm/_base.py\", line 277, in _dense_fit\n",
      "    self._probB, self.fit_status_ = libsvm.fit(\n",
      "  File \"sklearn/svm/_libsvm.pyx\", line 192, in sklearn.svm._libsvm.fit\n",
      "ValueError: specified nu is infeasible\n",
      "\n",
      "  warnings.warn(\"Estimator fit failed. The score on this train-test\"\n",
      "/Users/edgartome_1/opt/anaconda3/lib/python3.9/site-packages/sklearn/model_selection/_validation.py:615: FitFailedWarning: Estimator fit failed. The score on this train-test partition for these parameters will be set to nan. Details: \n",
      "Traceback (most recent call last):\n",
      "  File \"/Users/edgartome_1/opt/anaconda3/lib/python3.9/site-packages/sklearn/model_selection/_validation.py\", line 598, in _fit_and_score\n",
      "    estimator.fit(X_train, y_train, **fit_params)\n",
      "  File \"/Users/edgartome_1/opt/anaconda3/lib/python3.9/site-packages/sklearn/svm/_base.py\", line 226, in fit\n",
      "    fit(X, y, sample_weight, solver_type, kernel, random_seed=seed)\n",
      "  File \"/Users/edgartome_1/opt/anaconda3/lib/python3.9/site-packages/sklearn/svm/_base.py\", line 277, in _dense_fit\n",
      "    self._probB, self.fit_status_ = libsvm.fit(\n",
      "  File \"sklearn/svm/_libsvm.pyx\", line 192, in sklearn.svm._libsvm.fit\n",
      "ValueError: specified nu is infeasible\n",
      "\n",
      "  warnings.warn(\"Estimator fit failed. The score on this train-test\"\n",
      "/Users/edgartome_1/opt/anaconda3/lib/python3.9/site-packages/sklearn/model_selection/_validation.py:615: FitFailedWarning: Estimator fit failed. The score on this train-test partition for these parameters will be set to nan. Details: \n",
      "Traceback (most recent call last):\n",
      "  File \"/Users/edgartome_1/opt/anaconda3/lib/python3.9/site-packages/sklearn/model_selection/_validation.py\", line 598, in _fit_and_score\n",
      "    estimator.fit(X_train, y_train, **fit_params)\n",
      "  File \"/Users/edgartome_1/opt/anaconda3/lib/python3.9/site-packages/sklearn/svm/_base.py\", line 226, in fit\n",
      "    fit(X, y, sample_weight, solver_type, kernel, random_seed=seed)\n",
      "  File \"/Users/edgartome_1/opt/anaconda3/lib/python3.9/site-packages/sklearn/svm/_base.py\", line 277, in _dense_fit\n",
      "    self._probB, self.fit_status_ = libsvm.fit(\n",
      "  File \"sklearn/svm/_libsvm.pyx\", line 192, in sklearn.svm._libsvm.fit\n",
      "ValueError: specified nu is infeasible\n",
      "\n",
      "  warnings.warn(\"Estimator fit failed. The score on this train-test\"\n",
      "/Users/edgartome_1/opt/anaconda3/lib/python3.9/site-packages/sklearn/model_selection/_validation.py:615: FitFailedWarning: Estimator fit failed. The score on this train-test partition for these parameters will be set to nan. Details: \n",
      "Traceback (most recent call last):\n",
      "  File \"/Users/edgartome_1/opt/anaconda3/lib/python3.9/site-packages/sklearn/model_selection/_validation.py\", line 598, in _fit_and_score\n",
      "    estimator.fit(X_train, y_train, **fit_params)\n",
      "  File \"/Users/edgartome_1/opt/anaconda3/lib/python3.9/site-packages/sklearn/svm/_base.py\", line 226, in fit\n",
      "    fit(X, y, sample_weight, solver_type, kernel, random_seed=seed)\n",
      "  File \"/Users/edgartome_1/opt/anaconda3/lib/python3.9/site-packages/sklearn/svm/_base.py\", line 277, in _dense_fit\n",
      "    self._probB, self.fit_status_ = libsvm.fit(\n",
      "  File \"sklearn/svm/_libsvm.pyx\", line 192, in sklearn.svm._libsvm.fit\n",
      "ValueError: specified nu is infeasible\n",
      "\n",
      "  warnings.warn(\"Estimator fit failed. The score on this train-test\"\n",
      "/Users/edgartome_1/opt/anaconda3/lib/python3.9/site-packages/sklearn/model_selection/_validation.py:615: FitFailedWarning: Estimator fit failed. The score on this train-test partition for these parameters will be set to nan. Details: \n",
      "Traceback (most recent call last):\n",
      "  File \"/Users/edgartome_1/opt/anaconda3/lib/python3.9/site-packages/sklearn/model_selection/_validation.py\", line 598, in _fit_and_score\n",
      "    estimator.fit(X_train, y_train, **fit_params)\n",
      "  File \"/Users/edgartome_1/opt/anaconda3/lib/python3.9/site-packages/sklearn/svm/_base.py\", line 226, in fit\n",
      "    fit(X, y, sample_weight, solver_type, kernel, random_seed=seed)\n",
      "  File \"/Users/edgartome_1/opt/anaconda3/lib/python3.9/site-packages/sklearn/svm/_base.py\", line 277, in _dense_fit\n",
      "    self._probB, self.fit_status_ = libsvm.fit(\n",
      "  File \"sklearn/svm/_libsvm.pyx\", line 192, in sklearn.svm._libsvm.fit\n",
      "ValueError: specified nu is infeasible\n",
      "\n",
      "  warnings.warn(\"Estimator fit failed. The score on this train-test\"\n",
      "/Users/edgartome_1/opt/anaconda3/lib/python3.9/site-packages/sklearn/model_selection/_validation.py:615: FitFailedWarning: Estimator fit failed. The score on this train-test partition for these parameters will be set to nan. Details: \n",
      "Traceback (most recent call last):\n",
      "  File \"/Users/edgartome_1/opt/anaconda3/lib/python3.9/site-packages/sklearn/model_selection/_validation.py\", line 598, in _fit_and_score\n",
      "    estimator.fit(X_train, y_train, **fit_params)\n",
      "  File \"/Users/edgartome_1/opt/anaconda3/lib/python3.9/site-packages/sklearn/svm/_base.py\", line 226, in fit\n",
      "    fit(X, y, sample_weight, solver_type, kernel, random_seed=seed)\n",
      "  File \"/Users/edgartome_1/opt/anaconda3/lib/python3.9/site-packages/sklearn/svm/_base.py\", line 277, in _dense_fit\n",
      "    self._probB, self.fit_status_ = libsvm.fit(\n",
      "  File \"sklearn/svm/_libsvm.pyx\", line 192, in sklearn.svm._libsvm.fit\n",
      "ValueError: specified nu is infeasible\n",
      "\n",
      "  warnings.warn(\"Estimator fit failed. The score on this train-test\"\n",
      "/Users/edgartome_1/opt/anaconda3/lib/python3.9/site-packages/sklearn/model_selection/_validation.py:615: FitFailedWarning: Estimator fit failed. The score on this train-test partition for these parameters will be set to nan. Details: \n",
      "Traceback (most recent call last):\n",
      "  File \"/Users/edgartome_1/opt/anaconda3/lib/python3.9/site-packages/sklearn/model_selection/_validation.py\", line 598, in _fit_and_score\n",
      "    estimator.fit(X_train, y_train, **fit_params)\n",
      "  File \"/Users/edgartome_1/opt/anaconda3/lib/python3.9/site-packages/sklearn/svm/_base.py\", line 226, in fit\n",
      "    fit(X, y, sample_weight, solver_type, kernel, random_seed=seed)\n",
      "  File \"/Users/edgartome_1/opt/anaconda3/lib/python3.9/site-packages/sklearn/svm/_base.py\", line 277, in _dense_fit\n",
      "    self._probB, self.fit_status_ = libsvm.fit(\n",
      "  File \"sklearn/svm/_libsvm.pyx\", line 192, in sklearn.svm._libsvm.fit\n",
      "ValueError: specified nu is infeasible\n",
      "\n",
      "  warnings.warn(\"Estimator fit failed. The score on this train-test\"\n",
      "/Users/edgartome_1/opt/anaconda3/lib/python3.9/site-packages/sklearn/model_selection/_validation.py:615: FitFailedWarning: Estimator fit failed. The score on this train-test partition for these parameters will be set to nan. Details: \n",
      "Traceback (most recent call last):\n",
      "  File \"/Users/edgartome_1/opt/anaconda3/lib/python3.9/site-packages/sklearn/model_selection/_validation.py\", line 598, in _fit_and_score\n",
      "    estimator.fit(X_train, y_train, **fit_params)\n",
      "  File \"/Users/edgartome_1/opt/anaconda3/lib/python3.9/site-packages/sklearn/svm/_base.py\", line 226, in fit\n",
      "    fit(X, y, sample_weight, solver_type, kernel, random_seed=seed)\n",
      "  File \"/Users/edgartome_1/opt/anaconda3/lib/python3.9/site-packages/sklearn/svm/_base.py\", line 277, in _dense_fit\n",
      "    self._probB, self.fit_status_ = libsvm.fit(\n",
      "  File \"sklearn/svm/_libsvm.pyx\", line 192, in sklearn.svm._libsvm.fit\n",
      "ValueError: specified nu is infeasible\n",
      "\n",
      "  warnings.warn(\"Estimator fit failed. The score on this train-test\"\n",
      "/Users/edgartome_1/opt/anaconda3/lib/python3.9/site-packages/sklearn/model_selection/_validation.py:615: FitFailedWarning: Estimator fit failed. The score on this train-test partition for these parameters will be set to nan. Details: \n",
      "Traceback (most recent call last):\n",
      "  File \"/Users/edgartome_1/opt/anaconda3/lib/python3.9/site-packages/sklearn/model_selection/_validation.py\", line 598, in _fit_and_score\n",
      "    estimator.fit(X_train, y_train, **fit_params)\n",
      "  File \"/Users/edgartome_1/opt/anaconda3/lib/python3.9/site-packages/sklearn/svm/_base.py\", line 226, in fit\n",
      "    fit(X, y, sample_weight, solver_type, kernel, random_seed=seed)\n",
      "  File \"/Users/edgartome_1/opt/anaconda3/lib/python3.9/site-packages/sklearn/svm/_base.py\", line 277, in _dense_fit\n",
      "    self._probB, self.fit_status_ = libsvm.fit(\n",
      "  File \"sklearn/svm/_libsvm.pyx\", line 192, in sklearn.svm._libsvm.fit\n",
      "ValueError: specified nu is infeasible\n",
      "\n",
      "  warnings.warn(\"Estimator fit failed. The score on this train-test\"\n",
      "/Users/edgartome_1/opt/anaconda3/lib/python3.9/site-packages/sklearn/model_selection/_validation.py:615: FitFailedWarning: Estimator fit failed. The score on this train-test partition for these parameters will be set to nan. Details: \n",
      "Traceback (most recent call last):\n",
      "  File \"/Users/edgartome_1/opt/anaconda3/lib/python3.9/site-packages/sklearn/model_selection/_validation.py\", line 598, in _fit_and_score\n",
      "    estimator.fit(X_train, y_train, **fit_params)\n",
      "  File \"/Users/edgartome_1/opt/anaconda3/lib/python3.9/site-packages/sklearn/svm/_base.py\", line 226, in fit\n",
      "    fit(X, y, sample_weight, solver_type, kernel, random_seed=seed)\n",
      "  File \"/Users/edgartome_1/opt/anaconda3/lib/python3.9/site-packages/sklearn/svm/_base.py\", line 277, in _dense_fit\n",
      "    self._probB, self.fit_status_ = libsvm.fit(\n",
      "  File \"sklearn/svm/_libsvm.pyx\", line 192, in sklearn.svm._libsvm.fit\n",
      "ValueError: specified nu is infeasible\n",
      "\n",
      "  warnings.warn(\"Estimator fit failed. The score on this train-test\"\n",
      "/Users/edgartome_1/opt/anaconda3/lib/python3.9/site-packages/sklearn/model_selection/_validation.py:615: FitFailedWarning: Estimator fit failed. The score on this train-test partition for these parameters will be set to nan. Details: \n",
      "Traceback (most recent call last):\n",
      "  File \"/Users/edgartome_1/opt/anaconda3/lib/python3.9/site-packages/sklearn/model_selection/_validation.py\", line 598, in _fit_and_score\n",
      "    estimator.fit(X_train, y_train, **fit_params)\n",
      "  File \"/Users/edgartome_1/opt/anaconda3/lib/python3.9/site-packages/sklearn/svm/_base.py\", line 226, in fit\n",
      "    fit(X, y, sample_weight, solver_type, kernel, random_seed=seed)\n",
      "  File \"/Users/edgartome_1/opt/anaconda3/lib/python3.9/site-packages/sklearn/svm/_base.py\", line 277, in _dense_fit\n",
      "    self._probB, self.fit_status_ = libsvm.fit(\n",
      "  File \"sklearn/svm/_libsvm.pyx\", line 192, in sklearn.svm._libsvm.fit\n",
      "ValueError: specified nu is infeasible\n",
      "\n",
      "  warnings.warn(\"Estimator fit failed. The score on this train-test\"\n",
      "/Users/edgartome_1/opt/anaconda3/lib/python3.9/site-packages/sklearn/model_selection/_validation.py:615: FitFailedWarning: Estimator fit failed. The score on this train-test partition for these parameters will be set to nan. Details: \n",
      "Traceback (most recent call last):\n",
      "  File \"/Users/edgartome_1/opt/anaconda3/lib/python3.9/site-packages/sklearn/model_selection/_validation.py\", line 598, in _fit_and_score\n",
      "    estimator.fit(X_train, y_train, **fit_params)\n",
      "  File \"/Users/edgartome_1/opt/anaconda3/lib/python3.9/site-packages/sklearn/svm/_base.py\", line 226, in fit\n",
      "    fit(X, y, sample_weight, solver_type, kernel, random_seed=seed)\n",
      "  File \"/Users/edgartome_1/opt/anaconda3/lib/python3.9/site-packages/sklearn/svm/_base.py\", line 277, in _dense_fit\n",
      "    self._probB, self.fit_status_ = libsvm.fit(\n",
      "  File \"sklearn/svm/_libsvm.pyx\", line 192, in sklearn.svm._libsvm.fit\n",
      "ValueError: specified nu is infeasible\n",
      "\n",
      "  warnings.warn(\"Estimator fit failed. The score on this train-test\"\n",
      "/Users/edgartome_1/opt/anaconda3/lib/python3.9/site-packages/sklearn/model_selection/_validation.py:615: FitFailedWarning: Estimator fit failed. The score on this train-test partition for these parameters will be set to nan. Details: \n",
      "Traceback (most recent call last):\n",
      "  File \"/Users/edgartome_1/opt/anaconda3/lib/python3.9/site-packages/sklearn/model_selection/_validation.py\", line 598, in _fit_and_score\n",
      "    estimator.fit(X_train, y_train, **fit_params)\n",
      "  File \"/Users/edgartome_1/opt/anaconda3/lib/python3.9/site-packages/sklearn/svm/_base.py\", line 226, in fit\n",
      "    fit(X, y, sample_weight, solver_type, kernel, random_seed=seed)\n",
      "  File \"/Users/edgartome_1/opt/anaconda3/lib/python3.9/site-packages/sklearn/svm/_base.py\", line 277, in _dense_fit\n",
      "    self._probB, self.fit_status_ = libsvm.fit(\n",
      "  File \"sklearn/svm/_libsvm.pyx\", line 192, in sklearn.svm._libsvm.fit\n",
      "ValueError: specified nu is infeasible\n",
      "\n",
      "  warnings.warn(\"Estimator fit failed. The score on this train-test\"\n"
     ]
    },
    {
     "name": "stderr",
     "output_type": "stream",
     "text": [
      "/Users/edgartome_1/opt/anaconda3/lib/python3.9/site-packages/sklearn/model_selection/_search.py:922: UserWarning: One or more of the test scores are non-finite: [       nan 0.15648461        nan        nan        nan        nan\n",
      "        nan        nan        nan        nan]\n",
      "  warnings.warn(\n"
     ]
    },
    {
     "name": "stdout",
     "output_type": "stream",
     "text": [
      "{'nu': 0.1} 0.15648460838934128\n"
     ]
    }
   ],
   "source": [
    "# hyper parameter testing for NuSVC\n",
    "\n",
    "from sklearn.svm import NuSVC\n",
    "\n",
    "d={'nu':np.arange(0,1,0.1)}\n",
    "\n",
    "HS_Randomsearch(NuSVC(), dicparam = d, score='f1', xtrain=x_train, ytrain=y_train)"
   ]
  },
  {
   "cell_type": "code",
   "execution_count": 45,
   "id": "743a7bfb",
   "metadata": {},
   "outputs": [
    {
     "name": "stdout",
     "output_type": "stream",
     "text": [
      "Fitting 5 folds for each of 2 candidates, totalling 10 fits\n",
      "{'fit_prior': True} 0.0\n"
     ]
    }
   ],
   "source": [
    "# hyper parameter Bernoulli\n",
    "\n",
    "from sklearn.naive_bayes import BernoulliNB\n",
    "\n",
    "d = {}\n",
    "\n",
    "HS_Randomsearch(BernoulliNB(), dicparam = {'fit_prior':[True,False]}, score='f1', xtrain=x_train, ytrain=y_train)\n",
    "\n",
    "# result: {'fit_prior': True} 0.0"
   ]
  },
  {
   "cell_type": "code",
   "execution_count": 49,
   "id": "f6261b9f",
   "metadata": {},
   "outputs": [
    {
     "name": "stdout",
     "output_type": "stream",
     "text": [
      "Fitting 5 folds for each of 10 candidates, totalling 50 fits\n",
      "{'n_estimators': 130} 0.22787392658341982\n"
     ]
    }
   ],
   "source": [
    "# hyper parameter AdaBoostClassifier\n",
    "\n",
    "from sklearn.ensemble import AdaBoostClassifier\n",
    "\n",
    "HS_Randomsearch(AdaBoostClassifier(), dicparam = {'n_estimators':np.arange(100,200,10)}, score='f1', xtrain=x_train, ytrain=y_train)\n",
    "\n",
    "# result: 160"
   ]
  },
  {
   "cell_type": "code",
   "execution_count": 50,
   "id": "0f221f22",
   "metadata": {},
   "outputs": [
    {
     "name": "stdout",
     "output_type": "stream",
     "text": [
      "Fitting 5 folds for each of 6 candidates, totalling 30 fits\n",
      "{'fit_intercept': True, 'max_iter': 2000} 0.04856594874012501\n"
     ]
    }
   ],
   "source": [
    "# hyper parameter passive agressive\n",
    "\n",
    "from sklearn.linear_model import PassiveAggressiveClassifier\n",
    "\n",
    "HS_Randomsearch(PassiveAggressiveClassifier(), dicparam = {'fit_intercept':[True,False],'max_iter':[1000,2000,3000]}, score='f1', xtrain=x_train, ytrain=y_train)\n",
    "\n",
    "# result: {'fit_intercept': True, 'max_iter': 2000} 0.023195266272189347"
   ]
  },
  {
   "cell_type": "code",
   "execution_count": 51,
   "id": "b20d0310",
   "metadata": {},
   "outputs": [
    {
     "name": "stdout",
     "output_type": "stream",
     "text": [
      "Fitting 5 folds for each of 6 candidates, totalling 30 fits\n",
      "{'fit_intercept': True, 'max_iter': 2000} 0.031361381728568075\n"
     ]
    }
   ],
   "source": [
    "# hyper parameter SGDClassifier\n",
    "\n",
    "from sklearn.linear_model import SGDClassifier\n",
    "\n",
    "HS_Randomsearch(SGDClassifier(), dicparam = {'fit_intercept':[True,False],'max_iter':[1000,2000,3000]}, score='f1', xtrain=x_train, ytrain=y_train)\n",
    "\n",
    "# result: {'fit_intercept': False, 'max_iter': 1000} 0.030345736920034155"
   ]
  },
  {
   "cell_type": "code",
   "execution_count": 52,
   "id": "e0fe3f9f",
   "metadata": {},
   "outputs": [
    {
     "name": "stdout",
     "output_type": "stream",
     "text": [
      "Fitting 5 folds for each of 4 candidates, totalling 20 fits\n",
      "{'fit_prior': True, 'norm': False} 0.16940776896844667\n"
     ]
    }
   ],
   "source": [
    "#hyper parameter ComplementNB\n",
    "\n",
    "from sklearn.naive_bayes import ComplementNB\n",
    "\n",
    "HS_Randomsearch(ComplementNB(), dicparam = {'norm':[True,False], 'fit_prior':[True,False]}, score='f1', xtrain=x_train, ytrain=y_train)\n",
    "\n",
    "# result: {'fit_prior': True, 'norm': False} 0.16874863841491952"
   ]
  },
  {
   "cell_type": "markdown",
   "id": "1c89f24c",
   "metadata": {},
   "source": [
    "# Testing our models one by one"
   ]
  },
  {
   "cell_type": "code",
   "execution_count": 53,
   "id": "4f96fec9",
   "metadata": {},
   "outputs": [
    {
     "name": "stdout",
     "output_type": "stream",
     "text": [
      "              precision    recall  f1-score   support\n",
      "\n",
      "           0       0.92      1.00      0.96      5056\n",
      "           1       0.00      0.00      0.00       429\n",
      "\n",
      "    accuracy                           0.92      5485\n",
      "   macro avg       0.46      0.50      0.48      5485\n",
      "weighted avg       0.85      0.92      0.88      5485\n",
      "\n",
      "The accuracy of the Tree is 0.922\n"
     ]
    },
    {
     "name": "stderr",
     "output_type": "stream",
     "text": [
      "/Users/edgartome_1/opt/anaconda3/lib/python3.9/site-packages/sklearn/metrics/_classification.py:1248: UndefinedMetricWarning: Precision and F-score are ill-defined and being set to 0.0 in labels with no predicted samples. Use `zero_division` parameter to control this behavior.\n",
      "  _warn_prf(average, modifier, msg_start, len(result))\n",
      "/Users/edgartome_1/opt/anaconda3/lib/python3.9/site-packages/sklearn/metrics/_classification.py:1248: UndefinedMetricWarning: Precision and F-score are ill-defined and being set to 0.0 in labels with no predicted samples. Use `zero_division` parameter to control this behavior.\n",
      "  _warn_prf(average, modifier, msg_start, len(result))\n",
      "/Users/edgartome_1/opt/anaconda3/lib/python3.9/site-packages/sklearn/metrics/_classification.py:1248: UndefinedMetricWarning: Precision and F-score are ill-defined and being set to 0.0 in labels with no predicted samples. Use `zero_division` parameter to control this behavior.\n",
      "  _warn_prf(average, modifier, msg_start, len(result))\n"
     ]
    },
    {
     "data": {
      "image/png": "[encoded data removed]",
      "text/plain": [
       "<Figure size 432x288 with 2 Axes>"
      ]
     },
     "metadata": {
      "needs_background": "light"
     },
     "output_type": "display_data"
    }
   ],
   "source": [
    "#Test model Logistic regression\n",
    "\n",
    "from sklearn.linear_model import LogisticRegression\n",
    "from sklearn.metrics import classification_report\n",
    "\n",
    "model = LogisticRegression()\n",
    "result = model.fit(x_train,y_train)\n",
    "prediction = result.predict(x_test)\n",
    "\n",
    "print(classification_report(y_test,prediction))\n",
    "generate_results(prediction,y_test,model,x_test)"
   ]
  },
  {
   "cell_type": "code",
   "execution_count": 54,
   "id": "afc317a2",
   "metadata": {},
   "outputs": [
    {
     "name": "stdout",
     "output_type": "stream",
     "text": [
      "              precision    recall  f1-score   support\n",
      "\n",
      "           0       0.92      0.29      0.44      5056\n",
      "           1       0.08      0.69      0.14       429\n",
      "\n",
      "    accuracy                           0.32      5485\n",
      "   macro avg       0.50      0.49      0.29      5485\n",
      "weighted avg       0.85      0.32      0.42      5485\n",
      "\n",
      "The accuracy of the Tree is 0.323\n"
     ]
    },
    {
     "data": {
      "image/png": "[encoded data removed]",
      "text/plain": [
       "<Figure size 432x288 with 2 Axes>"
      ]
     },
     "metadata": {
      "needs_background": "light"
     },
     "output_type": "display_data"
    }
   ],
   "source": [
    "#Test model NuSVC BEST\n",
    "\n",
    "from sklearn.svm import NuSVC\n",
    "\n",
    "model = NuSVC(nu=0.1)\n",
    "result = model.fit(x_train,y_train)\n",
    "prediction = result.predict(x_test)\n",
    "\n",
    "print(classification_report(y_test,prediction))\n",
    "generate_results(prediction,y_test,model,x_test)"
   ]
  },
  {
   "cell_type": "code",
   "execution_count": 55,
   "id": "93a54d35",
   "metadata": {},
   "outputs": [
    {
     "name": "stdout",
     "output_type": "stream",
     "text": [
      "              precision    recall  f1-score   support\n",
      "\n",
      "           0       0.92      1.00      0.96      5056\n",
      "           1       0.00      0.00      0.00       429\n",
      "\n",
      "    accuracy                           0.92      5485\n",
      "   macro avg       0.46      0.50      0.48      5485\n",
      "weighted avg       0.85      0.92      0.88      5485\n",
      "\n",
      "The accuracy of the Tree is 0.922\n"
     ]
    },
    {
     "name": "stderr",
     "output_type": "stream",
     "text": [
      "/Users/edgartome_1/opt/anaconda3/lib/python3.9/site-packages/sklearn/metrics/_classification.py:1248: UndefinedMetricWarning: Precision and F-score are ill-defined and being set to 0.0 in labels with no predicted samples. Use `zero_division` parameter to control this behavior.\n",
      "  _warn_prf(average, modifier, msg_start, len(result))\n",
      "/Users/edgartome_1/opt/anaconda3/lib/python3.9/site-packages/sklearn/metrics/_classification.py:1248: UndefinedMetricWarning: Precision and F-score are ill-defined and being set to 0.0 in labels with no predicted samples. Use `zero_division` parameter to control this behavior.\n",
      "  _warn_prf(average, modifier, msg_start, len(result))\n",
      "/Users/edgartome_1/opt/anaconda3/lib/python3.9/site-packages/sklearn/metrics/_classification.py:1248: UndefinedMetricWarning: Precision and F-score are ill-defined and being set to 0.0 in labels with no predicted samples. Use `zero_division` parameter to control this behavior.\n",
      "  _warn_prf(average, modifier, msg_start, len(result))\n"
     ]
    },
    {
     "data": {
      "image/png": "[encoded data removed]",
      "text/plain": [
       "<Figure size 432x288 with 2 Axes>"
      ]
     },
     "metadata": {
      "needs_background": "light"
     },
     "output_type": "display_data"
    }
   ],
   "source": [
    "#Test model BernoulliNB\n",
    "\n",
    "model = BernoulliNB(fit_prior=True)\n",
    "result = model.fit(x_train,y_train)\n",
    "prediction = result.predict(x_test)\n",
    "\n",
    "print(classification_report(y_test,prediction))\n",
    "generate_results(prediction,y_test,model,x_test)"
   ]
  },
  {
   "cell_type": "code",
   "execution_count": 56,
   "id": "b6b3fbc7",
   "metadata": {},
   "outputs": [
    {
     "name": "stdout",
     "output_type": "stream",
     "text": [
      "              precision    recall  f1-score   support\n",
      "\n",
      "           0       0.92      1.00      0.96      5056\n",
      "           1       0.00      0.00      0.00       429\n",
      "\n",
      "    accuracy                           0.92      5485\n",
      "   macro avg       0.46      0.50      0.48      5485\n",
      "weighted avg       0.85      0.92      0.88      5485\n",
      "\n",
      "The accuracy of the Tree is 0.922\n"
     ]
    },
    {
     "name": "stderr",
     "output_type": "stream",
     "text": [
      "/Users/edgartome_1/opt/anaconda3/lib/python3.9/site-packages/sklearn/metrics/_classification.py:1248: UndefinedMetricWarning: Precision and F-score are ill-defined and being set to 0.0 in labels with no predicted samples. Use `zero_division` parameter to control this behavior.\n",
      "  _warn_prf(average, modifier, msg_start, len(result))\n",
      "/Users/edgartome_1/opt/anaconda3/lib/python3.9/site-packages/sklearn/metrics/_classification.py:1248: UndefinedMetricWarning: Precision and F-score are ill-defined and being set to 0.0 in labels with no predicted samples. Use `zero_division` parameter to control this behavior.\n",
      "  _warn_prf(average, modifier, msg_start, len(result))\n",
      "/Users/edgartome_1/opt/anaconda3/lib/python3.9/site-packages/sklearn/metrics/_classification.py:1248: UndefinedMetricWarning: Precision and F-score are ill-defined and being set to 0.0 in labels with no predicted samples. Use `zero_division` parameter to control this behavior.\n",
      "  _warn_prf(average, modifier, msg_start, len(result))\n"
     ]
    },
    {
     "data": {
      "image/png": "[encoded data removed]",
      "text/plain": [
       "<Figure size 432x288 with 2 Axes>"
      ]
     },
     "metadata": {
      "needs_background": "light"
     },
     "output_type": "display_data"
    }
   ],
   "source": [
    "#Test model wirh a different data set, from feature selection RFE, Data 3\n",
    "\n",
    "model = BernoulliNB(fit_prior=True)\n",
    "result = model.fit(x_train3,y_train)\n",
    "prediction = result.predict(x_test3)\n",
    "\n",
    "print(classification_report(y_test,prediction))\n",
    "generate_results(prediction,y_test,model,x_test3)"
   ]
  },
  {
   "cell_type": "code",
   "execution_count": 57,
   "id": "910072df",
   "metadata": {},
   "outputs": [
    {
     "name": "stdout",
     "output_type": "stream",
     "text": [
      "              precision    recall  f1-score   support\n",
      "\n",
      "           0       0.93      0.99      0.96      5056\n",
      "           1       0.60      0.12      0.21       429\n",
      "\n",
      "    accuracy                           0.93      5485\n",
      "   macro avg       0.77      0.56      0.58      5485\n",
      "weighted avg       0.90      0.93      0.90      5485\n",
      "\n",
      "The accuracy of the Tree is 0.925\n"
     ]
    },
    {
     "data": {
      "image/png": "[encoded data removed]",
      "text/plain": [
       "<Figure size 432x288 with 2 Axes>"
      ]
     },
     "metadata": {
      "needs_background": "light"
     },
     "output_type": "display_data"
    }
   ],
   "source": [
    "#Test model AdaBoostClassifier\n",
    "\n",
    "model = AdaBoostClassifier(n_estimators=160)\n",
    "result = model.fit(x_train,y_train)\n",
    "prediction = result.predict(x_test)\n",
    "\n",
    "print(classification_report(y_test,prediction))\n",
    "generate_results(prediction,y_test,model,x_test)"
   ]
  },
  {
   "cell_type": "code",
   "execution_count": 58,
   "id": "19c400bd",
   "metadata": {},
   "outputs": [
    {
     "name": "stdout",
     "output_type": "stream",
     "text": [
      "              precision    recall  f1-score   support\n",
      "\n",
      "           0       0.92      1.00      0.96      5056\n",
      "           1       0.00      0.00      0.00       429\n",
      "\n",
      "    accuracy                           0.92      5485\n",
      "   macro avg       0.46      0.50      0.48      5485\n",
      "weighted avg       0.85      0.92      0.88      5485\n",
      "\n",
      "The accuracy of the Tree is 0.922\n"
     ]
    },
    {
     "name": "stderr",
     "output_type": "stream",
     "text": [
      "/Users/edgartome_1/opt/anaconda3/lib/python3.9/site-packages/sklearn/metrics/_classification.py:1248: UndefinedMetricWarning: Precision and F-score are ill-defined and being set to 0.0 in labels with no predicted samples. Use `zero_division` parameter to control this behavior.\n",
      "  _warn_prf(average, modifier, msg_start, len(result))\n",
      "/Users/edgartome_1/opt/anaconda3/lib/python3.9/site-packages/sklearn/metrics/_classification.py:1248: UndefinedMetricWarning: Precision and F-score are ill-defined and being set to 0.0 in labels with no predicted samples. Use `zero_division` parameter to control this behavior.\n",
      "  _warn_prf(average, modifier, msg_start, len(result))\n",
      "/Users/edgartome_1/opt/anaconda3/lib/python3.9/site-packages/sklearn/metrics/_classification.py:1248: UndefinedMetricWarning: Precision and F-score are ill-defined and being set to 0.0 in labels with no predicted samples. Use `zero_division` parameter to control this behavior.\n",
      "  _warn_prf(average, modifier, msg_start, len(result))\n"
     ]
    },
    {
     "data": {
      "image/png": "[encoded data removed]",
      "text/plain": [
       "<Figure size 432x288 with 2 Axes>"
      ]
     },
     "metadata": {
      "needs_background": "light"
     },
     "output_type": "display_data"
    }
   ],
   "source": [
    "#Test model PassiveAggressiveClassifier\n",
    "\n",
    "model = PassiveAggressiveClassifier(fit_intercept= True,max_iter= 2000)\n",
    "result = model.fit(x_train,y_train)\n",
    "prediction = result.predict(x_test)\n",
    "\n",
    "print(classification_report(y_test,prediction))\n",
    "generate_results(prediction,y_test,model,x_test)"
   ]
  },
  {
   "cell_type": "code",
   "execution_count": 59,
   "id": "b817ad1b",
   "metadata": {},
   "outputs": [
    {
     "name": "stdout",
     "output_type": "stream",
     "text": [
      "              precision    recall  f1-score   support\n",
      "\n",
      "           0       0.92      1.00      0.96      5056\n",
      "           1       0.00      0.00      0.00       429\n",
      "\n",
      "    accuracy                           0.92      5485\n",
      "   macro avg       0.46      0.50      0.48      5485\n",
      "weighted avg       0.85      0.92      0.88      5485\n",
      "\n",
      "The accuracy of the Tree is 0.917\n"
     ]
    },
    {
     "data": {
      "image/png": "[encoded data removed]",
      "text/plain": [
       "<Figure size 432x288 with 2 Axes>"
      ]
     },
     "metadata": {
      "needs_background": "light"
     },
     "output_type": "display_data"
    }
   ],
   "source": [
    "#Test model SGDClassifier\n",
    "\n",
    "model = SGDClassifier(fit_intercept= False,max_iter= 1000)\n",
    "result = model.fit(x_train,y_train)\n",
    "prediction = result.predict(x_test)\n",
    "\n",
    "print(classification_report(y_test,prediction))\n",
    "generate_results(prediction,y_test,model,x_test)"
   ]
  },
  {
   "cell_type": "code",
   "execution_count": 60,
   "id": "17f97a68",
   "metadata": {},
   "outputs": [
    {
     "name": "stdout",
     "output_type": "stream",
     "text": [
      "              precision    recall  f1-score   support\n",
      "\n",
      "           0       0.94      0.57      0.71      5056\n",
      "           1       0.10      0.56      0.17       429\n",
      "\n",
      "    accuracy                           0.57      5485\n",
      "   macro avg       0.52      0.56      0.44      5485\n",
      "weighted avg       0.87      0.57      0.67      5485\n",
      "\n",
      "The accuracy of the Tree is 0.567\n"
     ]
    },
    {
     "data": {
      "image/png": "[encoded data removed]",
      "text/plain": [
       "<Figure size 432x288 with 2 Axes>"
      ]
     },
     "metadata": {
      "needs_background": "light"
     },
     "output_type": "display_data"
    }
   ],
   "source": [
    "#Test model ComplementNB\n",
    "\n",
    "model = ComplementNB(norm=False, fit_prior=True)\n",
    "result = model.fit(x_train,y_train)\n",
    "prediction = result.predict(x_test)\n",
    "\n",
    "print(classification_report(y_test,prediction))\n",
    "generate_results(prediction,y_test,model,x_test)"
   ]
  },
  {
   "cell_type": "code",
   "execution_count": 61,
   "id": "a7b9d113",
   "metadata": {},
   "outputs": [
    {
     "name": "stdout",
     "output_type": "stream",
     "text": [
      "              precision    recall  f1-score   support\n",
      "\n",
      "           0       0.92      1.00      0.96      5056\n",
      "           1       1.00      0.03      0.07       429\n",
      "\n",
      "    accuracy                           0.92      5485\n",
      "   macro avg       0.96      0.52      0.51      5485\n",
      "weighted avg       0.93      0.92      0.89      5485\n",
      "\n",
      "The accuracy of the Tree is 0.925\n"
     ]
    },
    {
     "data": {
      "image/png": "[encoded data removed]",
      "text/plain": [
       "<Figure size 432x288 with 2 Axes>"
      ]
     },
     "metadata": {
      "needs_background": "light"
     },
     "output_type": "display_data"
    }
   ],
   "source": [
    "#Test model GaussianProcessClassifier\n",
    "\n",
    "from sklearn.gaussian_process import GaussianProcessClassifier\n",
    "\n",
    "model = GaussianProcessClassifier(n_jobs=-1)\n",
    "result = model.fit(x_train,y_train)\n",
    "prediction = result.predict(x_test)\n",
    "\n",
    "print(classification_report(y_test,prediction))\n",
    "generate_results(prediction,y_test,model,x_test)"
   ]
  },
  {
   "cell_type": "code",
   "execution_count": null,
   "id": "3eb59841",
   "metadata": {},
   "outputs": [],
   "source": []
  }
 ],
 "metadata": {
  "kernelspec": {
   "display_name": "Python 3 (ipykernel)",
   "language": "python",
   "name": "python3"
  },
  "language_info": {
   "codemirror_mode": {
    "name": "ipython",
    "version": 3
   },
   "file_extension": ".py",
   "mimetype": "text/x-python",
   "name": "python",
   "nbconvert_exporter": "python",
   "pygments_lexer": "ipython3",
   "version": "3.9.7"
  }
 },
 "nbformat": 4,
 "nbformat_minor": 5
}
